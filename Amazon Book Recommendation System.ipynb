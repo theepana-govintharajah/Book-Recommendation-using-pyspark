{
 "cells": [
  {
   "cell_type": "markdown",
   "id": "5011c843-42b8-4018-bc57-eff3dc6f1c12",
   "metadata": {},
   "source": [
    "##### Spark setup and importing necessary dependecies"
   ]
  },
  {
   "cell_type": "code",
   "execution_count": 2,
   "id": "a6ab143d-3ccf-4467-b546-83ac3fe1c57a",
   "metadata": {},
   "outputs": [],
   "source": [
    "from pyspark.sql import SparkSession\n",
    "from pyspark.sql.functions import col, sum, concat\n",
    "\n",
    "spark = SparkSession.builder. \\\n",
    "config(\"spark.driver.memory\", \"4g\"). \\\n",
    "config(\"spark.executor.memory\", \"4g\").getOrCreate() "
   ]
  },
  {
   "cell_type": "code",
   "execution_count": 3,
   "id": "6eba5746-4487-48c3-a25f-613669069f8e",
   "metadata": {},
   "outputs": [],
   "source": [
    "spark.conf.set(\"spark.sql.legacy.timeParserPolicy\", \"LEGACY\")"
   ]
  },
  {
   "cell_type": "code",
   "execution_count": 4,
   "id": "fbb28e02-6036-4fe8-b2eb-f5738275f15e",
   "metadata": {},
   "outputs": [],
   "source": [
    "from pyspark.sql.types import StructType, StructField, StringType, DoubleType, DateType, TimestampType"
   ]
  },
  {
   "cell_type": "markdown",
   "id": "9c53a32f-7fea-45e8-809a-d854d381ba43",
   "metadata": {},
   "source": [
    "##### CSV dataset loading - books_data"
   ]
  },
  {
   "cell_type": "code",
   "execution_count": 5,
   "id": "c6dc7992-1c76-43c4-a092-f1b4805e7148",
   "metadata": {},
   "outputs": [],
   "source": [
    "# Define your schema with suitable data types\n",
    "schema = StructType([\n",
    "    StructField(\"Title\", StringType(), True),\n",
    "    StructField(\"description\", StringType(), True),\n",
    "    StructField(\"authors\", StringType(), True),\n",
    "    StructField(\"image\", StringType(), True),\n",
    "    StructField(\"previewLink\", StringType(), True),\n",
    "    StructField(\"publisher\", StringType(), True),\n",
    "    StructField(\"publishedDate\", DateType(), True),\n",
    "    StructField(\"infoLink\", StringType(), True),\n",
    "    StructField(\"categories\", StringType(), True),\n",
    "    StructField(\"ratingsCount\", DoubleType(), True)\n",
    "])"
   ]
  },
  {
   "cell_type": "code",
   "execution_count": 6,
   "id": "db0bc520-deda-400a-b64e-02f626c9d872",
   "metadata": {},
   "outputs": [],
   "source": [
    "# Read CSV file with specified schema and custom delimiter\n",
    "book_data_df = spark.read.format(\"csv\") \\\n",
    "    .option(\"header\", \"true\") \\\n",
    "    .option(\"delimiter\", \",\") \\\n",
    "    .option(\"quote\", \"\\\"\") \\\n",
    "    .option(\"escape\", \"\\\"\") \\\n",
    "    .schema(schema) \\\n",
    "    .load(\"books_data.csv\")"
   ]
  },
  {
   "cell_type": "code",
   "execution_count": 7,
   "id": "68295607-6f20-43ff-b6d9-61a5ab0da522",
   "metadata": {},
   "outputs": [
    {
     "data": {
      "text/plain": [
       "DataFrame[Title: string, description: string, authors: string, image: string, previewLink: string, publisher: string, publishedDate: date, infoLink: string, categories: string, ratingsCount: double]"
      ]
     },
     "metadata": {},
     "output_type": "display_data"
    }
   ],
   "source": [
    "display(book_data_df)"
   ]
  },
  {
   "cell_type": "code",
   "execution_count": 8,
   "id": "6bd33f4b-31d9-49b7-9bdd-b794d422dbca",
   "metadata": {},
   "outputs": [
    {
     "name": "stdout",
     "output_type": "stream",
     "text": [
      "+----------+-----------+----------+----------+-----------+----------+-------------+----------+----------+------------+\n",
      "|     Title|description|   authors|     image|previewLink| publisher|publishedDate|  infoLink|categories|ratingsCount|\n",
      "+----------+-----------+----------+----------+-----------+----------+-------------+----------+----------+------------+\n",
      "|Its Onl...|       NULL|['Julie...|http://...| http://...|      NULL|   1996-01-01|http://...|['Comic...|        NULL|\n",
      "|Dr. Seu...| Philip ...|['Phili...|http://...| http://...| A&C Black|   2005-01-01|http://...|['Biogr...|        NULL|\n",
      "|Wonderf...| This re...|['David...|http://...| http://...|      NULL|   2000-01-01|http://...|['Relig...|        NULL|\n",
      "|Whisper...| Julia T...|['Veron...|http://...| http://...| iUniverse|   2005-02-01|http://...|['Ficti...|        NULL|\n",
      "|Nation ...|       NULL|['Edwar...|      NULL| http://...|      NULL|   2003-03-01|http://...|      NULL|        NULL|\n",
      "|The Chu...| In The ...|['Evere...|http://...| http://...|Wm. B. ...|   1996-01-01|http://...|['Relig...|         5.0|\n",
      "|The Ove...|       NULL|['Miria...|      NULL| http://...|      NULL|   1960-01-01|http://...|      NULL|        NULL|\n",
      "|A Walk ...|       NULL|['Lee B...|      NULL| http://...|      NULL|   1988-01-01|http://...|      NULL|         3.0|\n",
      "|Saint H...| The sto...|['Mary ...|http://...| http://...|Tan Boo...|   2009-01-01|http://...|['Biogr...|        NULL|\n",
      "|Rising ...| Wardell...|['Steve...|      NULL| http://...|Plympto...|   1995-01-01|http://...|['Socia...|        NULL|\n",
      "|Muslim ...| Counter...|['Camil...|http://...| http://...|Berg Pu...|   1994-02-17|http://...|['Relig...|        NULL|\n",
      "|Dramati...| Dramati...|['Arman...|http://...| http://...|      NULL|   2005-07-01|http://...|['Refer...|        NULL|\n",
      "|Mensa N...| Acclaim...|['Evely...|http://...| http://...|  Sky Pony|   2018-11-06|http://...|['Juven...|        NULL|\n",
      "|Vector ...| Herb Ca...|['Allen...|http://...| http://...|Springe...|   2012-12-06|https:/...|['Techn...|        NULL|\n",
      "|A husba...| First p...|['Frank...|http://...| http://...|Pickle ...|   2018-02-27|https:/...|['Histo...|        NULL|\n",
      "|Gold an...| Sally d...|['Barry...|      NULL| http://...|      NULL|   2009-01-01|http://...|['New Z...|        NULL|\n",
      "|The Ult...| This co...|['Fiona...|http://...| http://...|Bloomsb...|   2010-01-28|https:/...|   ['Law']|        NULL|\n",
      "|The Rep...| At a ti...|['Roche...|http://...| http://...|Hill an...|   2016-01-05|https:/...|['Polit...|        NULL|\n",
      "|Overcom...| Like a ...|['Kenne...|http://...| http://...|    Bantam|   2012-02-01|https:/...|['Healt...|        NULL|\n",
      "|Alaska ...| \"Sourdo...|['Ruth ...|http://...| http://...|Alaska ...|   1976-01-01|http://...|['Cooki...|        NULL|\n",
      "+----------+-----------+----------+----------+-----------+----------+-------------+----------+----------+------------+\n",
      "only showing top 20 rows\n",
      "\n"
     ]
    }
   ],
   "source": [
    "book_data_df.show(truncate=10)"
   ]
  },
  {
   "cell_type": "markdown",
   "id": "e881471a-846a-4d1d-b24e-98353bbfed26",
   "metadata": {},
   "source": [
    "##### Data Preprocessing - books_data"
   ]
  },
  {
   "cell_type": "code",
   "execution_count": 9,
   "id": "141a569e-f935-4aac-b2f7-c7f089b100c7",
   "metadata": {},
   "outputs": [
    {
     "name": "stdout",
     "output_type": "stream",
     "text": [
      "Total number of rows in the Book Data DataFrame: 212404\n"
     ]
    }
   ],
   "source": [
    "# Count the total number of rows in the DataFrame\n",
    "total_rows = book_data_df.count()\n",
    "\n",
    "# Print the total number of rows\n",
    "print(\"Total number of rows in the Book Data DataFrame:\", total_rows)"
   ]
  },
  {
   "cell_type": "code",
   "execution_count": 10,
   "id": "5c0fd1f4-0d04-4d2d-b804-5068dc8197eb",
   "metadata": {},
   "outputs": [
    {
     "name": "stdout",
     "output_type": "stream",
     "text": [
      "+-----+-----------+-------+-----+-----------+---------+-------------+--------+----------+------------+\n",
      "|Title|description|authors|image|previewLink|publisher|publishedDate|infoLink|categories|ratingsCount|\n",
      "+-----+-----------+-------+-----+-----------+---------+-------------+--------+----------+------------+\n",
      "|    1|      68442|  31413|52075|      23836|    75886|        25576|   23836|     41199|      162652|\n",
      "+-----+-----------+-------+-----+-----------+---------+-------------+--------+----------+------------+\n",
      "\n"
     ]
    }
   ],
   "source": [
    "# Count missing values in each column\n",
    "missing_values = book_data_df.select(*(sum(col(c).isNull().cast(\"int\")).alias(c) for c in book_data_df.columns))\n",
    "\n",
    "# Display the missing values count for each column\n",
    "missing_values.show()"
   ]
  },
  {
   "cell_type": "code",
   "execution_count": 11,
   "id": "42a40354-6033-4356-90e5-f14780309ab3",
   "metadata": {},
   "outputs": [],
   "source": [
    "# Drop rows with missing values in the 'Title' column\n",
    "book_data_df = book_data_df.na.drop(subset=['Title'])"
   ]
  },
  {
   "cell_type": "code",
   "execution_count": 12,
   "id": "74fad1f1-b259-4d97-b2b2-430e990d4175",
   "metadata": {},
   "outputs": [],
   "source": [
    "# Columns to drop\n",
    "columns_to_drop = ['image', 'previewLink', 'infoLink','ratingsCount'] #ratingsCount column is dropped, since it has huge missing values\n",
    "\n",
    "# Drop the specified columns\n",
    "book_data_df = book_data_df.drop(*columns_to_drop)"
   ]
  },
  {
   "cell_type": "code",
   "execution_count": 13,
   "id": "7782b593-27f2-4bf5-a52d-4b4bbc54e4e3",
   "metadata": {},
   "outputs": [],
   "source": [
    "textual_columns = ['description', 'publisher']\n",
    "\n",
    "# Fill missing values with empty strings in textual columns\n",
    "book_data_df = book_data_df.na.fill('', subset=textual_columns)"
   ]
  },
  {
   "cell_type": "code",
   "execution_count": 14,
   "id": "12c7d505-8308-426b-b6c6-bfc5139289d9",
   "metadata": {},
   "outputs": [],
   "source": [
    "# Define the column to fill missing values for\n",
    "categorical_column = ['categories']\n",
    "\n",
    "# Fill missing values with 'Other' in the categories column\n",
    "book_data_df = book_data_df.na.fill('Other', subset=categorical_column)"
   ]
  },
  {
   "cell_type": "code",
   "execution_count": 15,
   "id": "2208334b-1cc7-43ce-a2e2-2dd3b8721809",
   "metadata": {},
   "outputs": [],
   "source": [
    "# Define the column to fill missing values for\n",
    "author = ['authors']\n",
    "\n",
    "# Fill missing values with 'Other' in the categories column\n",
    "book_data_df = book_data_df.na.fill('unknown', subset=author)"
   ]
  },
  {
   "cell_type": "code",
   "execution_count": 16,
   "id": "70536b97-b8c4-4082-8b78-8c8c2f9711ec",
   "metadata": {},
   "outputs": [
    {
     "name": "stdout",
     "output_type": "stream",
     "text": [
      "+-----+-----------+-------+---------+-------------+----------+\n",
      "|Title|description|authors|publisher|publishedDate|categories|\n",
      "+-----+-----------+-------+---------+-------------+----------+\n",
      "|    0|          0|      0|        0|        25576|         0|\n",
      "+-----+-----------+-------+---------+-------------+----------+\n",
      "\n"
     ]
    }
   ],
   "source": [
    "# Count missing values in each column\n",
    "missing_values = book_data_df.select(*(sum(col(c).isNull().cast(\"int\")).alias(c) for c in book_data_df.columns))\n",
    "\n",
    "# Display the missing values count for each column\n",
    "missing_values.show()"
   ]
  },
  {
   "cell_type": "code",
   "execution_count": 17,
   "id": "b9a2f52c-34d1-4ecb-9895-97fde2af5196",
   "metadata": {},
   "outputs": [
    {
     "name": "stdout",
     "output_type": "stream",
     "text": [
      "+--------------------+--------------------+--------------------+--------------------+-------------+--------------------+\n",
      "|               Title|         description|             authors|           publisher|publishedDate|          categories|\n",
      "+--------------------+--------------------+--------------------+--------------------+-------------+--------------------+\n",
      "|Its Only Art If I...|                    |    ['Julie Strain']|                    |   1996-01-01|['Comics & Graphi...|\n",
      "|Dr. Seuss: Americ...|Philip Nel takes ...|      ['Philip Nel']|           A&C Black|   2005-01-01|['Biography & Aut...|\n",
      "|Wonderful Worship...|This resource inc...|    ['David R. Ray']|                    |   2000-01-01|        ['Religion']|\n",
      "|Whispers of the W...|Julia Thomas find...| ['Veronica Haddon']|           iUniverse|   2005-02-01|         ['Fiction']|\n",
      "|Nation Dance: Rel...|                    |     ['Edward Long']|                    |   2003-03-01|               Other|\n",
      "|The Church of Chr...|In The Church of ...|['Everett Ferguson']|Wm. B. Eerdmans P...|   1996-01-01|        ['Religion']|\n",
      "|The Overbury affa...|                    |['Miriam Allen De...|                    |   1960-01-01|               Other|\n",
      "|A Walk in the Woo...|                    |    ['Lee Blessing']|                    |   1988-01-01|               Other|\n",
      "|Saint Hyacinth of...|The story for chi...|['Mary Fabyan Win...|     Tan Books & Pub|   2009-01-01|['Biography & Aut...|\n",
      "|Rising Sons and D...|Wardell recalls h...|  ['Steven Wardell']|  Plympton PressIntl|   1995-01-01|  ['Social Science']|\n",
      "|Muslim Women's Ch...|Counters the West...|['Camillia Fawzi ...|    Berg Pub Limited|   1994-02-17|        ['Religion']|\n",
      "|Dramatica for Scr...|Dramatica for Scr...|['Armando Salda A...|                    |   2005-07-01|       ['Reference']|\n",
      "|Mensa Number Puzz...|Acclaimed teacher...|['Evelyn B. Chris...|            Sky Pony|   2018-11-06|['Juvenile Nonfic...|\n",
      "|Vector Quantizati...|Herb Caen, a popu...|['Allen Gersho', ...|Springer Science ...|   2012-12-06|['Technology & En...|\n",
      "|A husband for Kutani|First published i...|      ['Frank Owen']|Pickle Partners P...|   2018-02-27|         ['History']|\n",
      "| Gold and greenstone|Sally did most th...|     ['Barry Crump']|                    |   2009-01-01|['New Zealand fic...|\n",
      "|The Ultimate Guid...|This collection b...|    ['Fiona Cownie']|Bloomsbury Publis...|   2010-01-28|             ['Law']|\n",
      "|The Repeal of Ret...|At a time when Am...|['Rochelle Gurste...|       Hill and Wang|   2016-01-05|['Political Scien...|\n",
      "|Overcoming Hypert...|Like a time bomb ...|['Kenneth H. Coop...|              Bantam|   2012-02-01|['Health & Fitness']|\n",
      "|    Alaska Sourdough|\"Sourdough is a m...|     ['Ruth Allman']|Alaska Northwest ...|   1976-01-01|         ['Cooking']|\n",
      "+--------------------+--------------------+--------------------+--------------------+-------------+--------------------+\n",
      "only showing top 20 rows\n",
      "\n"
     ]
    }
   ],
   "source": [
    "book_data_df.show(truncate=20)"
   ]
  },
  {
   "cell_type": "markdown",
   "id": "a5c9261f-7ed4-4ddc-a192-1bb375c23084",
   "metadata": {},
   "source": [
    "##### CSV dataset loading - books_rating"
   ]
  },
  {
   "cell_type": "code",
   "execution_count": 18,
   "id": "ac438002-f4a4-4053-8925-85d94d8300fb",
   "metadata": {},
   "outputs": [],
   "source": [
    "schema = StructType([\n",
    "    StructField(\"Id\", StringType(), True),\n",
    "    StructField(\"Title\", StringType(), True),\n",
    "    StructField(\"Price\", DoubleType(), True),\n",
    "    StructField(\"User_id\", StringType(), True),\n",
    "    StructField(\"profileName\", StringType(), True),\n",
    "    StructField(\"review/helpfulness\", StringType(), True),\n",
    "    StructField(\"review/score\", DoubleType(), True),\n",
    "    StructField(\"review/time\", StringType(), True),\n",
    "    StructField(\"review/summary\", StringType(), True),\n",
    "    StructField(\"review/text\", StringType(), True)\n",
    "])"
   ]
  },
  {
   "cell_type": "code",
   "execution_count": 19,
   "id": "74480ee7-c0f8-4494-8adc-c332f3d26f26",
   "metadata": {},
   "outputs": [],
   "source": [
    "# Load the CSV file with the specified schema\n",
    "book_rating_df = spark.read.format(\"csv\") \\\n",
    "    .option(\"header\", \"true\") \\\n",
    "    .schema(schema) \\\n",
    "    .load(\"Books_rating.csv\")"
   ]
  },
  {
   "cell_type": "code",
   "execution_count": 20,
   "id": "fe830713-3c87-4ca8-988c-af1baf5742bb",
   "metadata": {},
   "outputs": [
    {
     "name": "stdout",
     "output_type": "stream",
     "text": [
      "+----------+----------+-----+----------+-----------+------------------+------------+-----------+--------------+-----------+\n",
      "|        Id|     Title|Price|   User_id|profileName|review/helpfulness|review/score|review/time|review/summary|review/text|\n",
      "+----------+----------+-----+----------+-----------+------------------+------------+-----------+--------------+-----------+\n",
      "|1882931173|Its Onl...| NULL|AVCGYZL...| \"Jim of...|               7/7|         4.0|  940636800|    Nice co...| This is...|\n",
      "|0826414346|Dr. Seu...| NULL|A30TK6U...| Kevin K...|             10/10|         5.0| 1095724800|    Really ...| I don't...|\n",
      "|0826414346|Dr. Seu...| NULL|A3UH4UZ...| John Gr...|             10/11|         5.0| 1078790400|    Essenti...| \"If peo...|\n",
      "|0826414346|Dr. Seu...| NULL|A2MVUWT...| \"Roy E....|               7/7|         4.0| 1090713600|    Phlip N...| Theodor...|\n",
      "|0826414346|Dr. Seu...| NULL|A22X4XU...| \"D. H. ...|               3/3|         4.0| 1107993600|    Good ac...| \"Philip...|\n",
      "|0826414346|Dr. Seu...| NULL|A2F6NON...|     Malvin|               2/2|         4.0| 1127174400|    One of ...| \"\"\"Dr. ...|\n",
      "|0826414346|Dr. Seu...| NULL|A14OJS0...| Midwest...|               3/4|         5.0| 1100131200|    A memor...| Theodor...|\n",
      "|0826414346|Dr. Seu...| NULL|A2RSSXT...|  J. Squire|               0/0|         5.0| 1231200000|    Academi...| \"When I...|\n",
      "|0826414346|Dr. Seu...| NULL|A25MD5I...| \"J. P. ...|               0/0|         5.0| 1209859200|    And to ...| \"Trams ...|\n",
      "|0826414346|Dr. Seu...| NULL|A3VA4XF...| Donald ...|               3/5|         4.0| 1076371200|    Fascina...| As far ...|\n",
      "|0829814000|Wonderf...| 19.4|AZ0IOBU...| Rev. Pa...|              8/10|         5.0|  991440000|    Outstan...| I just ...|\n",
      "|0829814000|Wonderf...| 19.4|A373VVE...| Dr. Ter...|               1/1|         5.0| 1291766400|    Small C...| \"Many s...|\n",
      "|0829814000|Wonderf...| 19.4|AGKGOH6...| \"Cynthi...|               1/1|         5.0| 1248307200|    Not Jus...| I just ...|\n",
      "|0829814000|Wonderf...| 19.4|A3OQWLU...| Maxwell...|               1/1|         5.0| 1222560000|    Small c...| \"I hadn...|\n",
      "|0595344550|Whisper...|10.95|A3Q12RK...| Book Re...|              7/11|         1.0| 1117065600|      not good| I bough...|\n",
      "|0595344550|Whisper...|10.95|A1E9M6A...|  V. Powell|               1/2|         4.0| 1119571200|    Here is...| \"I have...|\n",
      "|0595344550|Whisper...|10.95|AUR0VA5...| \"LoveTo...|               1/2|         1.0| 1119225600|    Buyer b...| \"This i...|\n",
      "|0595344550|Whisper...|10.95|A1YLDZ3...|      Clara|               2/4|         5.0| 1115942400|    Fall on...| When I ...|\n",
      "|0595344550|Whisper...|10.95|ACO23CG...|      Tonya|               5/9|         5.0| 1117065600|    Bravo V...| I read ...|\n",
      "|0595344550|Whisper...|10.95|A1VK81C...| \"missyL...|               1/3|         5.0| 1130025600|     Wonderful| \"I real...|\n",
      "+----------+----------+-----+----------+-----------+------------------+------------+-----------+--------------+-----------+\n",
      "only showing top 20 rows\n",
      "\n"
     ]
    }
   ],
   "source": [
    "book_rating_df.show(truncate=10)"
   ]
  },
  {
   "cell_type": "markdown",
   "id": "5ec493ad-c535-4242-b975-63bcc892e55a",
   "metadata": {},
   "source": [
    "##### Data Preprocessing - books_rating"
   ]
  },
  {
   "cell_type": "code",
   "execution_count": 21,
   "id": "7a9c253d-4f43-4e5d-97c6-d226c8000dcf",
   "metadata": {},
   "outputs": [
    {
     "name": "stdout",
     "output_type": "stream",
     "text": [
      "Total number of rows in the Books Review DataFrame: 3000000\n"
     ]
    }
   ],
   "source": [
    "# Count the total number of rows in the DataFrame\n",
    "total_rows = book_rating_df.count()\n",
    "\n",
    "# Print the total number of rows\n",
    "print(\"Total number of rows in the Books Review DataFrame:\", total_rows)"
   ]
  },
  {
   "cell_type": "code",
   "execution_count": 22,
   "id": "fc712494-49c0-4b97-b661-0d3c2b7ea52b",
   "metadata": {},
   "outputs": [
    {
     "name": "stdout",
     "output_type": "stream",
     "text": [
      "+---+-----+-------+-------+-----------+------------------+------------+-----------+--------------+-----------+\n",
      "| Id|Title|  Price|User_id|profileName|review/helpfulness|review/score|review/time|review/summary|review/text|\n",
      "+---+-----+-------+-------+-----------+------------------+------------+-----------+--------------+-----------+\n",
      "|  0|  208|2519269| 562250|     562200|               367|       18064|         27|            65|         43|\n",
      "+---+-----+-------+-------+-----------+------------------+------------+-----------+--------------+-----------+\n",
      "\n"
     ]
    }
   ],
   "source": [
    "# Count missing values in each column\n",
    "missing_values = book_rating_df.select(*(sum(col(c).isNull().cast(\"int\")).alias(c) for c in book_rating_df.columns))\n",
    "\n",
    "# Display the missing values count for each column\n",
    "missing_values.show()"
   ]
  },
  {
   "cell_type": "code",
   "execution_count": 23,
   "id": "e9ca546e-00e8-45db-b610-9684843b35d0",
   "metadata": {},
   "outputs": [],
   "source": [
    "# Drop rows with missing values in 'Title' and 'User_id' columns\n",
    "book_rating_df = book_rating_df.na.drop(subset=['Title', 'User_id','review/score'])"
   ]
  },
  {
   "cell_type": "code",
   "execution_count": 24,
   "id": "764c652c-261c-448e-ab2a-69f12b1cba50",
   "metadata": {},
   "outputs": [
    {
     "name": "stdout",
     "output_type": "stream",
     "text": [
      "Total number of rows in the Books Review DataFrame: 2420261\n"
     ]
    }
   ],
   "source": [
    "# Count the total number of rows in the DataFrame\n",
    "total_rows = book_rating_df.count()\n",
    "\n",
    "# Print the total number of rows\n",
    "print(\"Total number of rows in the Books Review DataFrame:\", total_rows)"
   ]
  },
  {
   "cell_type": "code",
   "execution_count": 25,
   "id": "9c9dbf84-f7ee-461f-980a-5b052fd40286",
   "metadata": {},
   "outputs": [
    {
     "name": "stdout",
     "output_type": "stream",
     "text": [
      "+---+-----+-------+-------+-----------+------------------+------------+-----------+--------------+-----------+\n",
      "| Id|Title|  Price|User_id|profileName|review/helpfulness|review/score|review/time|review/summary|review/text|\n",
      "+---+-----+-------+-------+-----------+------------------+------------+-----------+--------------+-----------+\n",
      "|  0|    0|2009203|      0|         99|                 0|           0|          0|            29|          5|\n",
      "+---+-----+-------+-------+-----------+------------------+------------+-----------+--------------+-----------+\n",
      "\n"
     ]
    }
   ],
   "source": [
    "# Count missing values in each column\n",
    "missing_values = book_rating_df.select(*(sum(col(c).isNull().cast(\"int\")).alias(c) for c in book_rating_df.columns))\n",
    "\n",
    "# Display the missing values count for each column\n",
    "missing_values.show()"
   ]
  },
  {
   "cell_type": "code",
   "execution_count": 26,
   "id": "ffd1164a-f25c-4601-a26b-c43dc37dd38a",
   "metadata": {},
   "outputs": [],
   "source": [
    "# Drop the 'Price' column\n",
    "book_rating_df = book_rating_df.drop('Price')"
   ]
  },
  {
   "cell_type": "code",
   "execution_count": 27,
   "id": "f312d17d-dcb7-4c45-ae0e-be26314c6873",
   "metadata": {},
   "outputs": [],
   "source": [
    "textual_columns = ['profileName','review/summary', 'review/text']\n",
    "\n",
    "# Fill missing values with empty strings in textual columns\n",
    "book_rating_df = book_rating_df.na.fill('', subset=textual_columns)"
   ]
  },
  {
   "cell_type": "code",
   "execution_count": 28,
   "id": "86a33a84-21c8-4d6b-acb0-892d9681ec98",
   "metadata": {},
   "outputs": [
    {
     "name": "stdout",
     "output_type": "stream",
     "text": [
      "+---+-----+-------+-----------+------------------+------------+-----------+--------------+-----------+\n",
      "| Id|Title|User_id|profileName|review/helpfulness|review/score|review/time|review/summary|review/text|\n",
      "+---+-----+-------+-----------+------------------+------------+-----------+--------------+-----------+\n",
      "|  0|    0|      0|          0|                 0|           0|          0|             0|          0|\n",
      "+---+-----+-------+-----------+------------------+------------+-----------+--------------+-----------+\n",
      "\n"
     ]
    }
   ],
   "source": [
    "# Count missing values in each column\n",
    "missing_values = book_rating_df.select(*(sum(col(c).isNull().cast(\"int\")).alias(c) for c in book_rating_df.columns))\n",
    "\n",
    "# Display the missing values count for each column\n",
    "missing_values.show()"
   ]
  },
  {
   "cell_type": "code",
   "execution_count": 29,
   "id": "3caf7d97-ae6a-4a5b-8f7e-da4e332f107e",
   "metadata": {},
   "outputs": [
    {
     "name": "stdout",
     "output_type": "stream",
     "text": [
      "+----------+------------+------------+------------+------------------+------------+-----------+--------------+------------+\n",
      "|        Id|       Title|     User_id| profileName|review/helpfulness|review/score|review/time|review/summary| review/text|\n",
      "+----------+------------+------------+------------+------------------+------------+-----------+--------------+------------+\n",
      "|1882931173|Its Only ...|AVCGYZL8F...|\"Jim of O...|               7/7|         4.0|  940636800|  Nice coll...|This is o...|\n",
      "|0826414346|Dr. Seuss...|A30TK6U7D...|Kevin Kil...|             10/10|         5.0| 1095724800|  Really En...|I don't c...|\n",
      "|0826414346|Dr. Seuss...|A3UH4UZ4R...|John Granger|             10/11|         5.0| 1078790400|  Essential...|\"If peopl...|\n",
      "|0826414346|Dr. Seuss...|A2MVUWT45...|\"Roy E. P...|               7/7|         4.0| 1090713600|  Phlip Nel...|Theodore ...|\n",
      "|0826414346|Dr. Seuss...|A22X4XUPK...|\"D. H. Ri...|               3/3|         4.0| 1107993600|  Good acad...|\"Philip N...|\n",
      "|0826414346|Dr. Seuss...|A2F6NONFU...|      Malvin|               2/2|         4.0| 1127174400|  One of Am...|\"\"\"Dr. Se...|\n",
      "|0826414346|Dr. Seuss...|A14OJS0VW...|Midwest B...|               3/4|         5.0| 1100131200|  A memorab...|Theodor S...|\n",
      "|0826414346|Dr. Seuss...|A2RSSXTDZ...|   J. Squire|               0/0|         5.0| 1231200000|  Academia ...|\"When I r...|\n",
      "|0826414346|Dr. Seuss...|A25MD5I2G...|\"J. P. HI...|               0/0|         5.0| 1209859200|  And to th...|\"Trams (o...|\n",
      "|0826414346|Dr. Seuss...|A3VA4XFS5...|Donald Bu...|               3/5|         4.0| 1076371200|  Fascinati...|As far as...|\n",
      "|0829814000|Wonderful...|AZ0IOBU20...|Rev. Pame...|              8/10|         5.0|  991440000|  Outstandi...|I just fi...|\n",
      "|0829814000|Wonderful...|A373VVEU6...|Dr. Terry...|               1/1|         5.0| 1291766400|  Small Chu...|\"Many sma...|\n",
      "|0829814000|Wonderful...|AGKGOH65V...|\"Cynthia ...|               1/1|         5.0| 1248307200|  Not Just ...|I just fi...|\n",
      "|0829814000|Wonderful...|A3OQWLU31...|Maxwell G...|               1/1|         5.0| 1222560000|  Small chu...|\"I hadn't...|\n",
      "|0595344550|Whispers ...|A3Q12RK71...| Book Reader|              7/11|         1.0| 1117065600|      not good|I bought ...|\n",
      "|0595344550|Whispers ...|A1E9M6APK...|   V. Powell|               1/2|         4.0| 1119571200|  Here is m...|\"I have t...|\n",
      "|0595344550|Whispers ...|AUR0VA5H0...|\"LoveToRe...|               1/2|         1.0| 1119225600|  Buyer beware|\"This is ...|\n",
      "|0595344550|Whispers ...|A1YLDZ3VH...|       Clara|               2/4|         5.0| 1115942400|  Fall on y...|When I fi...|\n",
      "|0595344550|Whispers ...|ACO23CG8K...|       Tonya|               5/9|         5.0| 1117065600|  Bravo Ver...|I read th...|\n",
      "|0595344550|Whispers ...|A1VK81CRR...|\"missyLou...|               1/3|         5.0| 1130025600|     Wonderful|\"I really...|\n",
      "+----------+------------+------------+------------+------------------+------------+-----------+--------------+------------+\n",
      "only showing top 20 rows\n",
      "\n"
     ]
    }
   ],
   "source": [
    "book_rating_df.show(truncate=12)"
   ]
  },
  {
   "cell_type": "code",
   "execution_count": 30,
   "id": "f6c9fbce-f623-4978-b366-7eda44084e53",
   "metadata": {},
   "outputs": [],
   "source": [
    "from pyspark.sql.functions import col, from_unixtime\n",
    "\n",
    "# Assuming 'review/time' is the column containing Unix timestamps in string format\n",
    "# Convert the string column to a numeric data type (LongType)\n",
    "book_rating_df = book_rating_df.withColumn('review_time_unix', col('review/time').cast('long'))\n",
    "\n",
    "# Convert the Unix timestamps to a human-readable date format\n",
    "book_rating_df = book_rating_df.withColumn('review_time_formatted', from_unixtime('review_time_unix'))\n",
    "\n",
    "# Drop the intermediate 'review_time_unix' column if needed\n",
    "book_rating_df = book_rating_df.drop('review_time_unix')\n",
    "\n",
    "book_rating_df = book_rating_df.drop('review/time')"
   ]
  },
  {
   "cell_type": "code",
   "execution_count": 31,
   "id": "8c572dfd-eaa8-4384-bef2-a3d2cf1b5c72",
   "metadata": {},
   "outputs": [
    {
     "name": "stdout",
     "output_type": "stream",
     "text": [
      "+----------+----------+----------+-----------+------------------+------------+--------------+-----------+---------------------+\n",
      "|        Id|     Title|   User_id|profileName|review/helpfulness|review/score|review/summary|review/text|review_time_formatted|\n",
      "+----------+----------+----------+-----------+------------------+------------+--------------+-----------+---------------------+\n",
      "|1882931173|Its Onl...|AVCGYZL...| \"Jim of...|               7/7|         4.0|    Nice co...| This is...|           1999-10...|\n",
      "|0826414346|Dr. Seu...|A30TK6U...| Kevin K...|             10/10|         5.0|    Really ...| I don't...|           2004-09...|\n",
      "|0826414346|Dr. Seu...|A3UH4UZ...| John Gr...|             10/11|         5.0|    Essenti...| \"If peo...|           2004-03...|\n",
      "|0826414346|Dr. Seu...|A2MVUWT...| \"Roy E....|               7/7|         4.0|    Phlip N...| Theodor...|           2004-07...|\n",
      "|0826414346|Dr. Seu...|A22X4XU...| \"D. H. ...|               3/3|         4.0|    Good ac...| \"Philip...|           2005-02...|\n",
      "|0826414346|Dr. Seu...|A2F6NON...|     Malvin|               2/2|         4.0|    One of ...| \"\"\"Dr. ...|           2005-09...|\n",
      "|0826414346|Dr. Seu...|A14OJS0...| Midwest...|               3/4|         5.0|    A memor...| Theodor...|           2004-11...|\n",
      "|0826414346|Dr. Seu...|A2RSSXT...|  J. Squire|               0/0|         5.0|    Academi...| \"When I...|           2009-01...|\n",
      "|0826414346|Dr. Seu...|A25MD5I...| \"J. P. ...|               0/0|         5.0|    And to ...| \"Trams ...|           2008-05...|\n",
      "|0826414346|Dr. Seu...|A3VA4XF...| Donald ...|               3/5|         4.0|    Fascina...| As far ...|           2004-02...|\n",
      "|0829814000|Wonderf...|AZ0IOBU...| Rev. Pa...|              8/10|         5.0|    Outstan...| I just ...|           2001-06...|\n",
      "|0829814000|Wonderf...|A373VVE...| Dr. Ter...|               1/1|         5.0|    Small C...| \"Many s...|           2010-12...|\n",
      "|0829814000|Wonderf...|AGKGOH6...| \"Cynthi...|               1/1|         5.0|    Not Jus...| I just ...|           2009-07...|\n",
      "|0829814000|Wonderf...|A3OQWLU...| Maxwell...|               1/1|         5.0|    Small c...| \"I hadn...|           2008-09...|\n",
      "|0595344550|Whisper...|A3Q12RK...| Book Re...|              7/11|         1.0|      not good| I bough...|           2005-05...|\n",
      "|0595344550|Whisper...|A1E9M6A...|  V. Powell|               1/2|         4.0|    Here is...| \"I have...|           2005-06...|\n",
      "|0595344550|Whisper...|AUR0VA5...| \"LoveTo...|               1/2|         1.0|    Buyer b...| \"This i...|           2005-06...|\n",
      "|0595344550|Whisper...|A1YLDZ3...|      Clara|               2/4|         5.0|    Fall on...| When I ...|           2005-05...|\n",
      "|0595344550|Whisper...|ACO23CG...|      Tonya|               5/9|         5.0|    Bravo V...| I read ...|           2005-05...|\n",
      "|0595344550|Whisper...|A1VK81C...| \"missyL...|               1/3|         5.0|     Wonderful| \"I real...|           2005-10...|\n",
      "+----------+----------+----------+-----------+------------------+------------+--------------+-----------+---------------------+\n",
      "only showing top 20 rows\n",
      "\n"
     ]
    }
   ],
   "source": [
    "book_rating_df.show(truncate=10)"
   ]
  },
  {
   "cell_type": "markdown",
   "id": "76a8553b-4f59-4e1a-947c-999c62a9d9a7",
   "metadata": {},
   "source": [
    "#### Basic Exploratory Data Analysis (EDA) - books_data"
   ]
  },
  {
   "cell_type": "code",
   "execution_count": 32,
   "id": "c1c75604-cef6-4993-9efc-7d4f356d0861",
   "metadata": {},
   "outputs": [
    {
     "name": "stdout",
     "output_type": "stream",
     "text": [
      "+--------------------+--------------------+--------------------+--------------------+-------------+--------------------+\n",
      "|               Title|         description|             authors|           publisher|publishedDate|          categories|\n",
      "+--------------------+--------------------+--------------------+--------------------+-------------+--------------------+\n",
      "|Its Only Art If I...|                    |    ['Julie Strain']|                    |   1996-01-01|['Comics & Graphi...|\n",
      "|Dr. Seuss: Americ...|Philip Nel takes ...|      ['Philip Nel']|           A&C Black|   2005-01-01|['Biography & Aut...|\n",
      "|Wonderful Worship...|This resource inc...|    ['David R. Ray']|                    |   2000-01-01|        ['Religion']|\n",
      "|Whispers of the W...|Julia Thomas find...| ['Veronica Haddon']|           iUniverse|   2005-02-01|         ['Fiction']|\n",
      "|Nation Dance: Rel...|                    |     ['Edward Long']|                    |   2003-03-01|               Other|\n",
      "|The Church of Chr...|In The Church of ...|['Everett Ferguson']|Wm. B. Eerdmans P...|   1996-01-01|        ['Religion']|\n",
      "|The Overbury affa...|                    |['Miriam Allen De...|                    |   1960-01-01|               Other|\n",
      "|A Walk in the Woo...|                    |    ['Lee Blessing']|                    |   1988-01-01|               Other|\n",
      "|Saint Hyacinth of...|The story for chi...|['Mary Fabyan Win...|     Tan Books & Pub|   2009-01-01|['Biography & Aut...|\n",
      "|Rising Sons and D...|Wardell recalls h...|  ['Steven Wardell']|  Plympton PressIntl|   1995-01-01|  ['Social Science']|\n",
      "|Muslim Women's Ch...|Counters the West...|['Camillia Fawzi ...|    Berg Pub Limited|   1994-02-17|        ['Religion']|\n",
      "|Dramatica for Scr...|Dramatica for Scr...|['Armando Salda A...|                    |   2005-07-01|       ['Reference']|\n",
      "|Mensa Number Puzz...|Acclaimed teacher...|['Evelyn B. Chris...|            Sky Pony|   2018-11-06|['Juvenile Nonfic...|\n",
      "|Vector Quantizati...|Herb Caen, a popu...|['Allen Gersho', ...|Springer Science ...|   2012-12-06|['Technology & En...|\n",
      "|A husband for Kutani|First published i...|      ['Frank Owen']|Pickle Partners P...|   2018-02-27|         ['History']|\n",
      "| Gold and greenstone|Sally did most th...|     ['Barry Crump']|                    |   2009-01-01|['New Zealand fic...|\n",
      "|The Ultimate Guid...|This collection b...|    ['Fiona Cownie']|Bloomsbury Publis...|   2010-01-28|             ['Law']|\n",
      "|The Repeal of Ret...|At a time when Am...|['Rochelle Gurste...|       Hill and Wang|   2016-01-05|['Political Scien...|\n",
      "|Overcoming Hypert...|Like a time bomb ...|['Kenneth H. Coop...|              Bantam|   2012-02-01|['Health & Fitness']|\n",
      "|    Alaska Sourdough|\"Sourdough is a m...|     ['Ruth Allman']|Alaska Northwest ...|   1976-01-01|         ['Cooking']|\n",
      "+--------------------+--------------------+--------------------+--------------------+-------------+--------------------+\n",
      "only showing top 20 rows\n",
      "\n"
     ]
    }
   ],
   "source": [
    "book_data_df.show(truncate=20)"
   ]
  },
  {
   "cell_type": "code",
   "execution_count": 33,
   "id": "889d82d4-7c54-4085-a789-383567ea72be",
   "metadata": {},
   "outputs": [],
   "source": [
    "from pyspark.sql import functions as F"
   ]
  },
  {
   "cell_type": "code",
   "execution_count": 34,
   "id": "725b3814-340c-423a-a931-84ae99bf4b4f",
   "metadata": {},
   "outputs": [
    {
     "name": "stdout",
     "output_type": "stream",
     "text": [
      "+-----+-----+\n",
      "|Title|count|\n",
      "+-----+-----+\n",
      "+-----+-----+\n",
      "\n"
     ]
    }
   ],
   "source": [
    "# Check for duplicate values in the \"Title\" column\n",
    "duplicate_titles = book_data_df.groupBy(\"Title\").count().filter(col(\"count\") > 1)\n",
    "\n",
    "# Show the duplicate titles, if any\n",
    "duplicate_titles.show()"
   ]
  },
  {
   "cell_type": "code",
   "execution_count": 35,
   "id": "5c13ac6a-22aa-4469-8a16-e5737a149a59",
   "metadata": {},
   "outputs": [
    {
     "name": "stdout",
     "output_type": "stream",
     "text": [
      "+----------------------+-----+\n",
      "|concat(Title, authors)|count|\n",
      "+----------------------+-----+\n",
      "+----------------------+-----+\n",
      "\n"
     ]
    }
   ],
   "source": [
    "# Concatenate the values of Title, Author, and PublishedDate columns into a single column\n",
    "concatenated_column = concat(col(\"Title\"), col(\"authors\"))\n",
    "\n",
    "# Check for duplicate values in the concatenated column\n",
    "duplicate_rows = book_data_df.groupBy(concatenated_column).count().filter(col(\"count\") > 1)\n",
    "\n",
    "# Show the duplicate rows, if any\n",
    "duplicate_rows.show(truncate=False)"
   ]
  },
  {
   "cell_type": "code",
   "execution_count": 36,
   "id": "1ef1b826-5d30-4dd3-ad00-2b580fb2af22",
   "metadata": {},
   "outputs": [
    {
     "name": "stdout",
     "output_type": "stream",
     "text": [
      "Number of unique categories: 10884\n"
     ]
    }
   ],
   "source": [
    "# Find the number of unique categories\n",
    "unique_categories_count = book_data_df.select(\"categories\").distinct().count()\n",
    "\n",
    "# Print the number of unique categories\n",
    "print(\"Number of unique categories:\", unique_categories_count)"
   ]
  },
  {
   "cell_type": "markdown",
   "id": "00a3d8de-4126-46e1-9ed0-6f7957d983c1",
   "metadata": {},
   "source": [
    "#### Basic Exploratory Data Analysis (EDA) - books_data"
   ]
  },
  {
   "cell_type": "code",
   "execution_count": 37,
   "id": "8e2478e6-464a-4ab9-9db2-fd977b25b6a0",
   "metadata": {},
   "outputs": [
    {
     "name": "stdout",
     "output_type": "stream",
     "text": [
      "+--------------------+---------+\n",
      "|          categories|num_books|\n",
      "+--------------------+---------+\n",
      "|               Other|    41198|\n",
      "|         ['Fiction']|    23419|\n",
      "|        ['Religion']|     9459|\n",
      "|         ['History']|     9330|\n",
      "|['Juvenile Fiction']|     6643|\n",
      "|['Biography & Aut...|     6324|\n",
      "|['Business & Econ...|     5625|\n",
      "|       ['Computers']|     4312|\n",
      "|  ['Social Science']|     3834|\n",
      "|['Juvenile Nonfic...|     3446|\n",
      "|         ['Science']|     2623|\n",
      "|       ['Education']|     2611|\n",
      "|         ['Cooking']|     2445|\n",
      "|['Sports & Recrea...|     2267|\n",
      "|['Family & Relati...|     2178|\n",
      "|['Literary Critic...|     2147|\n",
      "|           ['Music']|     2106|\n",
      "|         ['Medical']|     2079|\n",
      "|             ['Art']|     2054|\n",
      "|['Body, Mind & Sp...|     2049|\n",
      "+--------------------+---------+\n",
      "only showing top 20 rows\n",
      "\n"
     ]
    }
   ],
   "source": [
    "# Group by categories and count the number of books\n",
    "books_per_category = book_data_df.groupBy(\"categories\").agg(F.count(\"Title\").alias(\"num_books\"))\n",
    "\n",
    "# Sort the DataFrame by the number of books in descending order\n",
    "books_per_category_sorted = books_per_category.orderBy(F.desc(\"num_books\"))\n",
    "\n",
    "# Show the sorted DataFrame\n",
    "books_per_category_sorted.show()"
   ]
  },
  {
   "cell_type": "code",
   "execution_count": 38,
   "id": "4ebd492e-8a7c-433d-b3a6-60e1f9bc8416",
   "metadata": {},
   "outputs": [
    {
     "name": "stdout",
     "output_type": "stream",
     "text": [
      "Number of categories with less than 3 books: 8148\n"
     ]
    }
   ],
   "source": [
    "# Filter the categories with less than 5 books\n",
    "categories_less_than_3_books = books_per_category.filter(\"num_books < 3\")\n",
    "\n",
    "# Count the number of categories with less than 5 books\n",
    "num_categories_less_than_3_books = categories_less_than_3_books.count()\n",
    "\n",
    "# Show the number of categories with less than 5 books\n",
    "print(\"Number of categories with less than 3 books:\", num_categories_less_than_3_books)"
   ]
  },
  {
   "cell_type": "code",
   "execution_count": 39,
   "id": "5c8abdd3-cee8-40c0-8f02-7754a2153bff",
   "metadata": {},
   "outputs": [
    {
     "name": "stdout",
     "output_type": "stream",
     "text": [
      "Number of unique authors: 127278\n"
     ]
    }
   ],
   "source": [
    "# Find the number of unique authors\n",
    "unique_authors_count = book_data_df.select(\"authors\").distinct().count()\n",
    "\n",
    "# Print the number of unique authors\n",
    "print(\"Number of unique authors:\", unique_authors_count)"
   ]
  },
  {
   "cell_type": "code",
   "execution_count": 40,
   "id": "eb3f5978-b771-4ef9-a79a-c38a8d5d45b7",
   "metadata": {},
   "outputs": [
    {
     "name": "stdout",
     "output_type": "stream",
     "text": [
      "+--------------------+---------+\n",
      "|             authors|num_books|\n",
      "+--------------------+---------+\n",
      "|             unknown|    31413|\n",
      "|       ['Rose Arny']|      236|\n",
      "|['William Shakesp...|      191|\n",
      "|['Library of Cong...|      178|\n",
      "| ['Agatha Christie']|      142|\n",
      "|['Erle Stanley Ga...|      124|\n",
      "|   [\"Louis L'Amour\"]|      123|\n",
      "| ['Charles Dickens']|       89|\n",
      "|['Edgar Rice Burr...|       85|\n",
      "|       ['Zane Grey']|       75|\n",
      "| ['Rudyard Kipling']|       75|\n",
      "|   ['Ann M. Martin']|       71|\n",
      "|   ['Carolyn Keene']|       71|\n",
      "|      ['Mark Twain']|       70|\n",
      "|    ['Isaac Asimov']|       70|\n",
      "|     ['Henry James']|       63|\n",
      "|   ['Joseph Conrad']|       62|\n",
      "|    ['Nora Roberts']|       62|\n",
      "|['Robert Louis St...|       62|\n",
      "|         ['Various']|       60|\n",
      "+--------------------+---------+\n",
      "only showing top 20 rows\n",
      "\n"
     ]
    }
   ],
   "source": [
    "# Group by categories and count the number of books\n",
    "books_per_author = book_data_df.groupBy(\"authors\").agg(F.count(\"Title\").alias(\"num_books\"))\n",
    "\n",
    "# Sort the DataFrame by the number of books in descending order\n",
    "books_per_author_sorted = books_per_author.orderBy(F.desc(\"num_books\"))\n",
    "\n",
    "# Show the sorted DataFrame\n",
    "books_per_author_sorted.show()"
   ]
  },
  {
   "cell_type": "markdown",
   "id": "4bb157bf-36b7-4538-ad26-b3657ae50a73",
   "metadata": {},
   "source": [
    "#### Basic Exploratory Data Analysis (EDA) - books_rating"
   ]
  },
  {
   "cell_type": "code",
   "execution_count": 41,
   "id": "425a8891-4bb8-45bb-8d1a-052020cf02fa",
   "metadata": {},
   "outputs": [
    {
     "name": "stdout",
     "output_type": "stream",
     "text": [
      "+----------+----------+----------+-----------+------------------+------------+--------------+-----------+---------------------+\n",
      "|        Id|     Title|   User_id|profileName|review/helpfulness|review/score|review/summary|review/text|review_time_formatted|\n",
      "+----------+----------+----------+-----------+------------------+------------+--------------+-----------+---------------------+\n",
      "|1882931173|Its Onl...|AVCGYZL...| \"Jim of...|               7/7|         4.0|    Nice co...| This is...|           1999-10...|\n",
      "|0826414346|Dr. Seu...|A30TK6U...| Kevin K...|             10/10|         5.0|    Really ...| I don't...|           2004-09...|\n",
      "|0826414346|Dr. Seu...|A3UH4UZ...| John Gr...|             10/11|         5.0|    Essenti...| \"If peo...|           2004-03...|\n",
      "|0826414346|Dr. Seu...|A2MVUWT...| \"Roy E....|               7/7|         4.0|    Phlip N...| Theodor...|           2004-07...|\n",
      "|0826414346|Dr. Seu...|A22X4XU...| \"D. H. ...|               3/3|         4.0|    Good ac...| \"Philip...|           2005-02...|\n",
      "|0826414346|Dr. Seu...|A2F6NON...|     Malvin|               2/2|         4.0|    One of ...| \"\"\"Dr. ...|           2005-09...|\n",
      "|0826414346|Dr. Seu...|A14OJS0...| Midwest...|               3/4|         5.0|    A memor...| Theodor...|           2004-11...|\n",
      "|0826414346|Dr. Seu...|A2RSSXT...|  J. Squire|               0/0|         5.0|    Academi...| \"When I...|           2009-01...|\n",
      "|0826414346|Dr. Seu...|A25MD5I...| \"J. P. ...|               0/0|         5.0|    And to ...| \"Trams ...|           2008-05...|\n",
      "|0826414346|Dr. Seu...|A3VA4XF...| Donald ...|               3/5|         4.0|    Fascina...| As far ...|           2004-02...|\n",
      "|0829814000|Wonderf...|AZ0IOBU...| Rev. Pa...|              8/10|         5.0|    Outstan...| I just ...|           2001-06...|\n",
      "|0829814000|Wonderf...|A373VVE...| Dr. Ter...|               1/1|         5.0|    Small C...| \"Many s...|           2010-12...|\n",
      "|0829814000|Wonderf...|AGKGOH6...| \"Cynthi...|               1/1|         5.0|    Not Jus...| I just ...|           2009-07...|\n",
      "|0829814000|Wonderf...|A3OQWLU...| Maxwell...|               1/1|         5.0|    Small c...| \"I hadn...|           2008-09...|\n",
      "|0595344550|Whisper...|A3Q12RK...| Book Re...|              7/11|         1.0|      not good| I bough...|           2005-05...|\n",
      "|0595344550|Whisper...|A1E9M6A...|  V. Powell|               1/2|         4.0|    Here is...| \"I have...|           2005-06...|\n",
      "|0595344550|Whisper...|AUR0VA5...| \"LoveTo...|               1/2|         1.0|    Buyer b...| \"This i...|           2005-06...|\n",
      "|0595344550|Whisper...|A1YLDZ3...|      Clara|               2/4|         5.0|    Fall on...| When I ...|           2005-05...|\n",
      "|0595344550|Whisper...|ACO23CG...|      Tonya|               5/9|         5.0|    Bravo V...| I read ...|           2005-05...|\n",
      "|0595344550|Whisper...|A1VK81C...| \"missyL...|               1/3|         5.0|     Wonderful| \"I real...|           2005-10...|\n",
      "+----------+----------+----------+-----------+------------------+------------+--------------+-----------+---------------------+\n",
      "only showing top 20 rows\n",
      "\n"
     ]
    }
   ],
   "source": [
    "book_rating_df.show(truncate=10)"
   ]
  },
  {
   "cell_type": "code",
   "execution_count": 42,
   "id": "b53ef6f0-9357-4c19-9fad-32ffc12918c4",
   "metadata": {},
   "outputs": [
    {
     "name": "stdout",
     "output_type": "stream",
     "text": [
      "+-------------------------------------------------------------------------------+-----+\n",
      "|concat(Title, User_id)                                                         |count|\n",
      "+-------------------------------------------------------------------------------+-----+\n",
      "|The Scarlet Letter A RomanceA1ABDWJU9RTUWU                                     |6    |\n",
      "|The Scarlet Letter A RomanceA4LD04RELGYW8                                      |6    |\n",
      "|The Scarlet Letter A RomanceA6TPHIXWU4Y7K                                      |5    |\n",
      "|FoundationA1LVZOK9F7K4CN                                                       |3    |\n",
      "|FoundationA2NTPZZ5FS19Q                                                        |3    |\n",
      "|FoundationA1C58YXM2A30CY                                                       |3    |\n",
      "|FoundationA3BNPGALC1HI4X                                                       |3    |\n",
      "|FoundationA2924CRHEV9B3                                                        |3    |\n",
      "|FoundationA1N5JCYDWCOMTB                                                       |3    |\n",
      "|I'M DANCING AS FAST AS I CANAFAY1BMFGOJA4                                      |2    |\n",
      "|The Sword in the StoneA38A2Y5TSAE7OH                                           |5    |\n",
      "|Frederick DouglassAUMA56QQ0F83A                                                |2    |\n",
      "|Hard TimesA33ZIY3EDM8K5B                                                       |4    |\n",
      "|The interpretation of dreamsA3OEECMCM2T4KQ                                     |4    |\n",
      "|The Clan of the Cave BearA13L6FHP8OAAWY                                        |2    |\n",
      "|The Clan of the Cave BearA3LKT545WYWWFN                                        |2    |\n",
      "|The Clan of the Cave BearAKJ94R35HCHGZ                                         |2    |\n",
      "|The Clan of the Cave BearA1UZ4LMHETRFOI                                        |2    |\n",
      "|Climbing High: A Woman's Account of Surviving the Everest TragedyA1E0EKL1XHHLQF|2    |\n",
      "|1984A3TDY86JDEOVDT                                                             |2    |\n",
      "+-------------------------------------------------------------------------------+-----+\n",
      "only showing top 20 rows\n",
      "\n"
     ]
    }
   ],
   "source": [
    "# Concatenate the values of Title, Author, and PublishedDate columns into a single column\n",
    "concatenated_column = concat(col(\"Title\"), col(\"User_id\"))\n",
    "\n",
    "# Check for duplicate values in the concatenated column\n",
    "duplicate_rows = book_rating_df.groupBy(concatenated_column).count().filter(col(\"count\") > 1)\n",
    "\n",
    "# Show the duplicate rows, if any\n",
    "duplicate_rows.show(truncate=False)"
   ]
  },
  {
   "cell_type": "code",
   "execution_count": 43,
   "id": "ece78a20-1945-4798-b400-6b4acb2810ca",
   "metadata": {},
   "outputs": [
    {
     "name": "stdout",
     "output_type": "stream",
     "text": [
      "Total duplicate rows: 182481\n"
     ]
    }
   ],
   "source": [
    "# Count the total number of duplicate rows\n",
    "total_duplicates = duplicate_rows.count()\n",
    "print(\"Total duplicate rows:\", total_duplicates)"
   ]
  },
  {
   "cell_type": "code",
   "execution_count": 44,
   "id": "95a54dc1-6b87-4ab9-991f-ff82adb3c7c0",
   "metadata": {},
   "outputs": [
    {
     "name": "stdout",
     "output_type": "stream",
     "text": [
      "+--------------------+----------+\n",
      "|               Title|user_count|\n",
      "+--------------------+----------+\n",
      "|Harry Potter and ...|      3646|\n",
      "|          The Hobbit|      3567|\n",
      "|The Hobbit There ...|      3566|\n",
      "|The Hobbitt, or t...|      3551|\n",
      "|The Hobbit or The...|      3500|\n",
      "|The Hobbit; Or, T...|      3398|\n",
      "|Unfit for Command...|      2933|\n",
      "|      Atlas Shrugged|      2628|\n",
      "|  Rich Dad, Poor Dad|      2231|\n",
      "|The Catcher in th...|      2125|\n",
      "|The Catcher in th...|      2116|\n",
      "|ERAGON: INHERITAN...|      2116|\n",
      "|THE CATCHER IN TH...|      2106|\n",
      "|The Alchemist: A ...|      1911|\n",
      "|           The Giver|      1868|\n",
      "|The Lord Of The R...|      1849|\n",
      "|The Lord of the R...|      1848|\n",
      "|The Lord of the R...|      1847|\n",
      "|The Lord of the R...|      1842|\n",
      "|The Lord of the R...|      1840|\n",
      "+--------------------+----------+\n",
      "only showing top 20 rows\n",
      "\n"
     ]
    }
   ],
   "source": [
    "# Group by Title and count distinct User_id entries, then sort in descending order\n",
    "title_user_count = book_rating_df.groupBy(\"Title\").agg(F.countDistinct(\"User_id\").alias(\"user_count\")) \\\n",
    "                                  .orderBy(F.desc(\"user_count\"))\n",
    "\n",
    "# Show the results\n",
    "title_user_count.show()"
   ]
  },
  {
   "cell_type": "code",
   "execution_count": 45,
   "id": "0f498c18-f529-4712-807f-bb68676326b7",
   "metadata": {},
   "outputs": [
    {
     "name": "stdout",
     "output_type": "stream",
     "text": [
      "+----------------------------------------------------------------------------------------------------+----------+\n",
      "|                                                                                               Title|user_count|\n",
      "+----------------------------------------------------------------------------------------------------+----------+\n",
      "|                                                               Harry Potter and The Sorcerer's Stone|      3646|\n",
      "|                                                                                          The Hobbit|      3567|\n",
      "|                                                                     The Hobbit There and Back Again|      3566|\n",
      "|                                    The Hobbitt, or there and back again; illustrated by the author.|      3551|\n",
      "|                                                                  The Hobbit or There and Back Again|      3500|\n",
      "|                                                                The Hobbit; Or, There and Back Again|      3398|\n",
      "|                                 Unfit for Command: Swift Boat Veterans Speak Out Against John Kerry|      2933|\n",
      "|                                                                                      Atlas Shrugged|      2628|\n",
      "|                                                                                  Rich Dad, Poor Dad|      2231|\n",
      "|                                                                              The Catcher in the Rye|      2125|\n",
      "|                                                                      ERAGON: INHERITANCE, BOOK ONE.|      2116|\n",
      "|                                     The Catcher in the Rye [Audiobook] [Cd] [Unabridged] (Audio CD)|      2116|\n",
      "|                                                                              THE CATCHER IN THE RYE|      2106|\n",
      "|                                                   The Alchemist: A Fable about Following Your Dream|      1911|\n",
      "|                                                                                           The Giver|      1868|\n",
      "|The Lord Of The Rings THREE VOLUME BOXED SET (The Fellowship Of The Ring, The Return of The King,...|      1849|\n",
      "|                                                                The Lord of the Rings (3 Volume Set)|      1848|\n",
      "|                                            The Lord of the Rings Trilogy: Three Volumes in Slipcase|      1847|\n",
      "|                                                                   The Lord of the Rings - Boxed Set|      1842|\n",
      "|The Lord of the Rings Trilogy (The Fellowship of the Ring, The Two Towers, The Return of the King...|      1840|\n",
      "+----------------------------------------------------------------------------------------------------+----------+\n",
      "only showing top 20 rows\n",
      "\n"
     ]
    }
   ],
   "source": [
    "title_user_count.show(truncate=100)"
   ]
  },
  {
   "cell_type": "code",
   "execution_count": 46,
   "id": "46ac1c05-41bd-47ad-9981-a52bb1fe685f",
   "metadata": {},
   "outputs": [
    {
     "name": "stdout",
     "output_type": "stream",
     "text": [
      "+--------------------+--------------------+--------------------+---------+-------------+--------------------+\n",
      "|               Title|         description|             authors|publisher|publishedDate|          categories|\n",
      "+--------------------+--------------------+--------------------+---------+-------------+--------------------+\n",
      "|The Hobbit There ...|The adventures of...|['John Ronald Reu...|         |   1966-01-01|['Adventure stori...|\n",
      "+--------------------+--------------------+--------------------+---------+-------------+--------------------+\n",
      "\n"
     ]
    }
   ],
   "source": [
    "# Filter rows where the book title is equal to specific_value\n",
    "filtered_df = book_data_df.filter(book_data_df[\"Title\"] == \"The Hobbit There and Back Again\")\n",
    "\n",
    "# Show the filtered DataFrame\n",
    "filtered_df.show()"
   ]
  },
  {
   "cell_type": "markdown",
   "id": "557be325-2b23-4f63-98bf-9ed46bf89908",
   "metadata": {},
   "source": [
    "#### Merge the dataframes"
   ]
  },
  {
   "cell_type": "code",
   "execution_count": 47,
   "id": "f0e2ba20-7296-47b3-823c-cb3fc4e8b4b6",
   "metadata": {},
   "outputs": [
    {
     "name": "stdout",
     "output_type": "stream",
     "text": [
      "+-----+-----------+-------+---------+-------------+----------+-----+-------+-----------+------------------+------------+--------------+-----------+---------------------+\n",
      "|Title|description|authors|publisher|publishedDate|categories|   Id|User_id|profileName|review/helpfulness|review/score|review/summary|review/text|review_time_formatted|\n",
      "+-----+-----------+-------+---------+-------------+----------+-----+-------+-----------+------------------+------------+--------------+-----------+---------------------+\n",
      "|$5...|           |  un...|         |         NULL|     Other|09...|  AO...|      \"C...|             20/20|         3.0|         Go...|      It...|                20...|\n",
      "|'H...|           |  un...|         |         NULL|     Other|B0...|  A1...|      \"J...|               1/1|         5.0|         Sl...|      I ...|                20...|\n",
      "|'H...|           |  un...|         |         NULL|     Other|B0...|  AG...|      \"C...|               1/1|         4.0|         Wh...|      I'...|                20...|\n",
      "|'H...|           |  un...|         |         NULL|     Other|B0...|  A3...|      Em...|               1/1|         5.0|         Ra...|      \"E...|                20...|\n",
      "|'H...|           |  un...|         |         NULL|     Other|B0...|  A1...|      \"R...|               1/1|         4.0|         Ab...|      I ...|                20...|\n",
      "|'H...|           |  un...|         |         NULL|     Other|B0...|  A1...|      \"k...|               1/1|         5.0|         A ...|      \"T...|                20...|\n",
      "|'H...|           |  un...|         |         NULL|     Other|B0...|  A3...|      \"M...|               1/1|         5.0|         sh...|      If...|                20...|\n",
      "|'H...|           |  un...|         |         NULL|     Other|B0...|  A2...|      Je...|               1/1|         5.0|         Ve...|      It...|                20...|\n",
      "|'H...|           |  un...|         |         NULL|     Other|B0...|  AE...|       Jody|               3/4|         5.0|         Gr...|      I ...|                20...|\n",
      "|'H...|           |  un...|         |         NULL|     Other|B0...|  A9...|      \"A...|               2/3|         4.0|         ve...|      i ...|                20...|\n",
      "|'H...|           |  un...|         |         NULL|     Other|B0...|  A1...|      M....|               2/3|         5.0|         Great|      Su...|                20...|\n",
      "|'H...|           |  un...|         |         NULL|     Other|B0...|  AX...|      E....|               0/0|         5.0|         So...|      bu...|                20...|\n",
      "|'H...|           |  un...|         |         NULL|     Other|B0...|  A2...|      Li...|               1/2|         1.0|         To...|      I ...|                20...|\n",
      "|'H...|           |  un...|         |         NULL|     Other|B0...|  A3...|      \"M...|               1/2|         5.0|         Go...|      Th...|                20...|\n",
      "|'H...|           |  un...|         |         NULL|     Other|B0...|  A3...|      M....|               1/2|         4.0|         He...|      Ve...|                20...|\n",
      "|'H...|           |  un...|         |         NULL|     Other|B0...|  A2...|      \"D...|               5/9|         2.0|         A ...|      \"I...|                20...|\n",
      "|'H...|           |  un...|         |         NULL|     Other|B0...|  AC...|      \"T...|               0/1|         5.0|         Fa...|      Al...|                20...|\n",
      "|'H...|           |  un...|         |         NULL|     Other|B0...|  A1...|      Me...|               0/1|         4.0|         Ro...|      He...|                20...|\n",
      "|'H...|           |  un...|         |         NULL|     Other|B0...|  A3...|      Ne...|               0/1|         4.0|         Ju...|      Th...|                20...|\n",
      "|'H...|           |  un...|         |         NULL|     Other|B0...|  AP...|      D....|               0/1|         4.0|         \"T...|      Th...|                20...|\n",
      "+-----+-----------+-------+---------+-------------+----------+-----+-------+-----------+------------------+------------+--------------+-----------+---------------------+\n",
      "only showing top 20 rows\n",
      "\n"
     ]
    }
   ],
   "source": [
    "# Join the DataFrames based on the \"Title\" column\n",
    "merged_df = book_data_df.join(book_rating_df, on=\"Title\")\n",
    "\n",
    "# Drop one of the \"Title\" columns (assuming it's from book_rating_df)\n",
    "merged_df = merged_df.drop(book_rating_df[\"Title\"])\n",
    "\n",
    "# Show the resulting DataFrame\n",
    "merged_df.show(truncate=5)"
   ]
  },
  {
   "cell_type": "code",
   "execution_count": 48,
   "id": "e186279b-2407-467c-9db9-3cb00098191b",
   "metadata": {},
   "outputs": [
    {
     "data": {
      "text/plain": [
       "['Title',\n",
       " 'description',\n",
       " 'authors',\n",
       " 'publisher',\n",
       " 'publishedDate',\n",
       " 'categories',\n",
       " 'Id',\n",
       " 'User_id',\n",
       " 'profileName',\n",
       " 'review/helpfulness',\n",
       " 'review/score',\n",
       " 'review/summary',\n",
       " 'review/text',\n",
       " 'review_time_formatted']"
      ]
     },
     "execution_count": 48,
     "metadata": {},
     "output_type": "execute_result"
    }
   ],
   "source": [
    "merged_df.columns"
   ]
  },
  {
   "cell_type": "code",
   "execution_count": 49,
   "id": "5d58fbac-310d-4612-96e8-9d0793fee757",
   "metadata": {},
   "outputs": [
    {
     "name": "stdout",
     "output_type": "stream",
     "text": [
      "The number of dropped reviews are :  6208\n"
     ]
    }
   ],
   "source": [
    "# Get the counts of rows in each DataFrame\n",
    "book_rating_count = book_rating_df.count()\n",
    "merged_count = merged_df.count()\n",
    "\n",
    "# Compare the counts and print messages accordingly\n",
    "if book_rating_count == merged_count:\n",
    "    print(\"No reviews have been dropped.\")\n",
    "else:\n",
    "    print(\"The number of dropped reviews are : \", book_rating_count-merged_count)"
   ]
  },
  {
   "cell_type": "markdown",
   "id": "2fd58347-5e3f-40f3-93e6-397f5b80315d",
   "metadata": {},
   "source": [
    "#### Data preprocessing - Merged dataframe"
   ]
  },
  {
   "cell_type": "code",
   "execution_count": 50,
   "id": "f246ce8b-ef42-424e-a71e-d7ef3f67092c",
   "metadata": {},
   "outputs": [
    {
     "name": "stdout",
     "output_type": "stream",
     "text": [
      "+-----+-----------+-------+---------+-------------+----------+---+-------+-----------+------------------+------------+--------------+-----------+---------------------+\n",
      "|Title|description|authors|publisher|publishedDate|categories| Id|User_id|profileName|review/helpfulness|review/score|review/summary|review/text|review_time_formatted|\n",
      "+-----+-----------+-------+---------+-------------+----------+---+-------+-----------+------------------+------------+--------------+-----------+---------------------+\n",
      "|    0|          0|      0|        0|       287674|         0|  0|      0|          0|                 0|           0|             0|          0|                    5|\n",
      "+-----+-----------+-------+---------+-------------+----------+---+-------+-----------+------------------+------------+--------------+-----------+---------------------+\n",
      "\n"
     ]
    }
   ],
   "source": [
    "# Count missing values in each column\n",
    "merged_missing_values = merged_df.select(*(sum(col(c).isNull().cast(\"int\")).alias(c) for c in merged_df.columns))\n",
    "\n",
    "# Display the missing values count for each column\n",
    "merged_missing_values.show()"
   ]
  },
  {
   "cell_type": "code",
   "execution_count": 51,
   "id": "31ec9bc4-84fe-48c6-a43f-a1524da9df35",
   "metadata": {},
   "outputs": [
    {
     "name": "stdout",
     "output_type": "stream",
     "text": [
      "+--------------------+-----------+-------+---------+-------------+----------+----------+--------------+--------------------+------------------+------------+--------------------+--------------------+---------------------+----------+\n",
      "|               Title|description|authors|publisher|publishedDate|categories|        Id|       User_id|         profileName|review/helpfulness|review/score|      review/summary|         review/text|review_time_formatted|user_index|\n",
      "+--------------------+-----------+-------+---------+-------------+----------+----------+--------------+--------------------+------------------+------------+--------------------+--------------------+---------------------+----------+\n",
      "|$5 Dollar Menus f...|           |unknown|         |         NULL|     Other|0972432779| AOVKTRWGT79PA|\"C. R Vachio \"\"Ch...|             20/20|         3.0|Good, but with pr...|It's a decent boo...|  2004-08-05 06:00:00|  945746.0|\n",
      "|'HUMBLE PIE , MY ...|           |unknown|         |         NULL|     Other|B000OLP7B2|A1WCJEZS66D224|\"J.L. Cocca \"\"Boo...|               1/1|         5.0|Slightly biased r...|I admit to having...|  2011-07-10 05:30:00|    6261.0|\n",
      "|'HUMBLE PIE , MY ...|           |unknown|         |         NULL|     Other|B000OLP7B2| AG2YXYIQ8TLTA|\"Candy Beauchamp ...|               1/1|         4.0|Who knew I'd gain...|I've watched Hell...|  2010-03-29 05:30:00|    3913.0|\n",
      "|'HUMBLE PIE , MY ...|           |unknown|         |         NULL|     Other|B000OLP7B2|A37IHRVO8JWYF2|     Emily D. Agunod|               1/1|         5.0|      Raw and Honest|\"Ever since I dis...|  2009-09-10 05:30:00|   33427.0|\n",
      "|'HUMBLE PIE , MY ...|           |unknown|         |         NULL|     Other|B000OLP7B2|A1X3V3HFGIN8SL|\"Rob Woodbridge \"...|               1/1|         4.0|    Absolute Passion|I was floored whe...|  2008-07-26 05:30:00|  126881.0|\n",
      "|'HUMBLE PIE , MY ...|           |unknown|         |         NULL|     Other|B000OLP7B2|A13CYIBSTSZITG|   \"karenkat \"\"kk\"\"\"|               1/1|         5.0|A Tell-All Worth ...|\"There's a kind o...|  2008-05-19 05:30:00|  329870.0|\n",
      "|'HUMBLE PIE , MY ...|           |unknown|         |         NULL|     Other|B000OLP7B2|A39KGSB0H68NBA|\"Mike D \"\"mikeymi...|               1/1|         5.0|     short and sweet|If you thought yo...|  2008-04-08 05:30:00|  725345.0|\n",
      "|'HUMBLE PIE , MY ...|           |unknown|         |         NULL|     Other|B000OLP7B2|A2TBGDDIUJFY53|     Jennifer Mutter|               1/1|         5.0|          Very good!|It was very inter...|  2008-02-06 05:30:00|  643409.0|\n",
      "|'HUMBLE PIE , MY ...|           |unknown|         |         NULL|     Other|B000OLP7B2| AE5TJNHLSVPAG|                Jody|               3/4|         5.0|          Great book|I don't have a lo...|  2008-09-24 05:30:00|  108165.0|\n",
      "|'HUMBLE PIE , MY ...|           |unknown|         |         NULL|     Other|B000OLP7B2| A9Q28YTLYREO7|\"A customer \"\"mis...|               2/3|         4.0|      very Good Book|i dig watching Go...|  2008-04-04 05:30:00|     325.0|\n",
      "|'HUMBLE PIE , MY ...|           |unknown|         |         NULL|     Other|B000OLP7B2|A1G599E9PZM5BO|           M. Edward|               2/3|         5.0|               Great|Super read, very ...|  2007-08-02 05:30:00|  394397.0|\n",
      "|'HUMBLE PIE , MY ...|           |unknown|         |         NULL|     Other|B000OLP7B2| AXH2V7V2QP61M|       E. L. Jenkins|               0/0|         5.0|So I bought this ...|but I ended up re...|  2007-08-06 05:30:00|  167859.0|\n",
      "|'HUMBLE PIE , MY ...|           |unknown|         |         NULL|     Other|B000OLP7B2|A2ONMZ1P3QG0TS|            LibraGuy|               1/2|         1.0|    Too Many F words|I am not a prude....|  2012-10-27 05:30:00|  619955.0|\n",
      "|'HUMBLE PIE , MY ...|           |unknown|         |         NULL|     Other|B000OLP7B2|A32CMM6U7XHNXN|\"M. McCraine \"\"M....|               1/2|         5.0| Gordon Ramsay Rules|This books Rocks!...|  2007-09-05 05:30:00|  688760.0|\n",
      "|'HUMBLE PIE , MY ...|           |unknown|         |         NULL|     Other|B000OLP7B2|A39N4LLSA3J7HG|        M. Tarantino|               1/2|         4.0|      Hell's Kitchen|Very interesting ...|  2007-09-02 05:30:00|  725763.0|\n",
      "|'HUMBLE PIE , MY ...|           |unknown|         |         NULL|     Other|B000OLP7B2|A2VB43YX15NQER|\"D. Bivins \"\"ssm2...|               5/9|         2.0|A must for fans, ...|\"I've just finish...|  2009-03-11 05:30:00|  653308.0|\n",
      "|'HUMBLE PIE , MY ...|           |unknown|         |         NULL|     Other|B000OLP7B2| ACV9L9XII8GXG|\"Tracie L. Barret...|               0/1|         5.0|      Fabulous read!|Always been a fan...|  2011-01-13 05:30:00|  885017.0|\n",
      "|'HUMBLE PIE , MY ...|           |unknown|         |         NULL|     Other|B000OLP7B2|A1NKHQ9L0KIIB5|   Melissa A. Palmer|               0/1|         4.0|Roasting in Hell'...|Hell's Kitchen is...|  2010-08-16 05:30:00|   67910.0|\n",
      "|'HUMBLE PIE , MY ...|           |unknown|         |         NULL|     Other|B000OLP7B2|A349BP2FCMJTLB|            New Chef|               0/1|         4.0|    Just life Gordon|This book was def...|  2010-03-08 05:30:00|  698537.0|\n",
      "|'HUMBLE PIE , MY ...|           |unknown|         |         NULL|     Other|B000OLP7B2| AP9GTMQ4PELKY|         D. Stauffer|               0/1|         4.0|\"TV distorts our ...|This is a good re...|  2009-06-11 05:30:00|  947629.0|\n",
      "+--------------------+-----------+-------+---------+-------------+----------+----------+--------------+--------------------+------------------+------------+--------------------+--------------------+---------------------+----------+\n",
      "only showing top 20 rows\n",
      "\n"
     ]
    }
   ],
   "source": [
    "from pyspark.ml.feature import StringIndexer\n",
    "\n",
    "user_indexer = StringIndexer(inputCol=\"User_id\", outputCol=\"user_index\")\n",
    "indexerModel = user_indexer.fit(merged_df)\n",
    "\n",
    "# Transform the DataFrame using the fitted StringIndexer model\n",
    "indexed_df = indexerModel.transform(merged_df)\n",
    "indexed_df.show(truncate=20)"
   ]
  },
  {
   "cell_type": "code",
   "execution_count": 52,
   "id": "26a740d0-ecce-462a-8a92-5e9f773b2c4c",
   "metadata": {},
   "outputs": [
    {
     "name": "stdout",
     "output_type": "stream",
     "text": [
      "+--------------------+-----------+-------+---------+-------------+----------+----------+--------------+--------------------+------------------+------------+--------------------+--------------------+---------------------+----------+-----------+\n",
      "|               Title|description|authors|publisher|publishedDate|categories|        Id|       User_id|         profileName|review/helpfulness|review/score|      review/summary|         review/text|review_time_formatted|user_index|title_index|\n",
      "+--------------------+-----------+-------+---------+-------------+----------+----------+--------------+--------------------+------------------+------------+--------------------+--------------------+---------------------+----------+-----------+\n",
      "|$5 Dollar Menus f...|           |unknown|         |         NULL|     Other|0972432779| AOVKTRWGT79PA|\"C. R Vachio \"\"Ch...|             20/20|         3.0|Good, but with pr...|It's a decent boo...|  2004-08-05 06:00:00|  945746.0|   135917.0|\n",
      "|'HUMBLE PIE , MY ...|           |unknown|         |         NULL|     Other|B000OLP7B2|A1WCJEZS66D224|\"J.L. Cocca \"\"Boo...|               1/1|         5.0|Slightly biased r...|I admit to having...|  2011-07-10 05:30:00|    6261.0|     3685.0|\n",
      "|'HUMBLE PIE , MY ...|           |unknown|         |         NULL|     Other|B000OLP7B2| AG2YXYIQ8TLTA|\"Candy Beauchamp ...|               1/1|         4.0|Who knew I'd gain...|I've watched Hell...|  2010-03-29 05:30:00|    3913.0|     3685.0|\n",
      "|'HUMBLE PIE , MY ...|           |unknown|         |         NULL|     Other|B000OLP7B2|A37IHRVO8JWYF2|     Emily D. Agunod|               1/1|         5.0|      Raw and Honest|\"Ever since I dis...|  2009-09-10 05:30:00|   33427.0|     3685.0|\n",
      "|'HUMBLE PIE , MY ...|           |unknown|         |         NULL|     Other|B000OLP7B2|A1X3V3HFGIN8SL|\"Rob Woodbridge \"...|               1/1|         4.0|    Absolute Passion|I was floored whe...|  2008-07-26 05:30:00|  126881.0|     3685.0|\n",
      "|'HUMBLE PIE , MY ...|           |unknown|         |         NULL|     Other|B000OLP7B2|A13CYIBSTSZITG|   \"karenkat \"\"kk\"\"\"|               1/1|         5.0|A Tell-All Worth ...|\"There's a kind o...|  2008-05-19 05:30:00|  329870.0|     3685.0|\n",
      "|'HUMBLE PIE , MY ...|           |unknown|         |         NULL|     Other|B000OLP7B2|A39KGSB0H68NBA|\"Mike D \"\"mikeymi...|               1/1|         5.0|     short and sweet|If you thought yo...|  2008-04-08 05:30:00|  725345.0|     3685.0|\n",
      "|'HUMBLE PIE , MY ...|           |unknown|         |         NULL|     Other|B000OLP7B2|A2TBGDDIUJFY53|     Jennifer Mutter|               1/1|         5.0|          Very good!|It was very inter...|  2008-02-06 05:30:00|  643409.0|     3685.0|\n",
      "|'HUMBLE PIE , MY ...|           |unknown|         |         NULL|     Other|B000OLP7B2| AE5TJNHLSVPAG|                Jody|               3/4|         5.0|          Great book|I don't have a lo...|  2008-09-24 05:30:00|  108165.0|     3685.0|\n",
      "|'HUMBLE PIE , MY ...|           |unknown|         |         NULL|     Other|B000OLP7B2| A9Q28YTLYREO7|\"A customer \"\"mis...|               2/3|         4.0|      very Good Book|i dig watching Go...|  2008-04-04 05:30:00|     325.0|     3685.0|\n",
      "|'HUMBLE PIE , MY ...|           |unknown|         |         NULL|     Other|B000OLP7B2|A1G599E9PZM5BO|           M. Edward|               2/3|         5.0|               Great|Super read, very ...|  2007-08-02 05:30:00|  394397.0|     3685.0|\n",
      "|'HUMBLE PIE , MY ...|           |unknown|         |         NULL|     Other|B000OLP7B2| AXH2V7V2QP61M|       E. L. Jenkins|               0/0|         5.0|So I bought this ...|but I ended up re...|  2007-08-06 05:30:00|  167859.0|     3685.0|\n",
      "|'HUMBLE PIE , MY ...|           |unknown|         |         NULL|     Other|B000OLP7B2|A2ONMZ1P3QG0TS|            LibraGuy|               1/2|         1.0|    Too Many F words|I am not a prude....|  2012-10-27 05:30:00|  619955.0|     3685.0|\n",
      "|'HUMBLE PIE , MY ...|           |unknown|         |         NULL|     Other|B000OLP7B2|A32CMM6U7XHNXN|\"M. McCraine \"\"M....|               1/2|         5.0| Gordon Ramsay Rules|This books Rocks!...|  2007-09-05 05:30:00|  688760.0|     3685.0|\n",
      "|'HUMBLE PIE , MY ...|           |unknown|         |         NULL|     Other|B000OLP7B2|A39N4LLSA3J7HG|        M. Tarantino|               1/2|         4.0|      Hell's Kitchen|Very interesting ...|  2007-09-02 05:30:00|  725763.0|     3685.0|\n",
      "|'HUMBLE PIE , MY ...|           |unknown|         |         NULL|     Other|B000OLP7B2|A2VB43YX15NQER|\"D. Bivins \"\"ssm2...|               5/9|         2.0|A must for fans, ...|\"I've just finish...|  2009-03-11 05:30:00|  653308.0|     3685.0|\n",
      "|'HUMBLE PIE , MY ...|           |unknown|         |         NULL|     Other|B000OLP7B2| ACV9L9XII8GXG|\"Tracie L. Barret...|               0/1|         5.0|      Fabulous read!|Always been a fan...|  2011-01-13 05:30:00|  885017.0|     3685.0|\n",
      "|'HUMBLE PIE , MY ...|           |unknown|         |         NULL|     Other|B000OLP7B2|A1NKHQ9L0KIIB5|   Melissa A. Palmer|               0/1|         4.0|Roasting in Hell'...|Hell's Kitchen is...|  2010-08-16 05:30:00|   67910.0|     3685.0|\n",
      "|'HUMBLE PIE , MY ...|           |unknown|         |         NULL|     Other|B000OLP7B2|A349BP2FCMJTLB|            New Chef|               0/1|         4.0|    Just life Gordon|This book was def...|  2010-03-08 05:30:00|  698537.0|     3685.0|\n",
      "|'HUMBLE PIE , MY ...|           |unknown|         |         NULL|     Other|B000OLP7B2| AP9GTMQ4PELKY|         D. Stauffer|               0/1|         4.0|\"TV distorts our ...|This is a good re...|  2009-06-11 05:30:00|  947629.0|     3685.0|\n",
      "+--------------------+-----------+-------+---------+-------------+----------+----------+--------------+--------------------+------------------+------------+--------------------+--------------------+---------------------+----------+-----------+\n",
      "only showing top 20 rows\n",
      "\n"
     ]
    }
   ],
   "source": [
    "title_indexer = StringIndexer(inputCol=\"Title\", outputCol=\"title_index\")\n",
    "indexerModel = title_indexer.fit(indexed_df)\n",
    "\n",
    "# Transform the DataFrame using the fitted StringIndexer model\n",
    "indexed_df = indexerModel.transform(indexed_df)\n",
    "indexed_df.show(truncate=20)"
   ]
  },
  {
   "cell_type": "code",
   "execution_count": 82,
   "id": "bf0347e8-4862-49b1-b5f0-ddc3bc8d7f84",
   "metadata": {},
   "outputs": [],
   "source": [
    "from pyspark.sql.functions import when\n",
    "\n",
    "merged_df = merged_df.withColumn(\"review/score\", when(merged_df[\"review/score\"] > 5, 0).otherwise(merged_df[\"review/score\"]))"
   ]
  },
  {
   "cell_type": "markdown",
   "id": "c44c384e-fc3c-44e1-8c10-103be67adfd6",
   "metadata": {},
   "source": [
    "#### EDA on Merged Data"
   ]
  },
  {
   "cell_type": "code",
   "execution_count": 53,
   "id": "144ed1bc-4ba8-4ed8-a172-bbfb483a2af2",
   "metadata": {},
   "outputs": [],
   "source": [
    "import matplotlib.pyplot as plt\n",
    "from pyspark.sql import functions as F"
   ]
  },
  {
   "cell_type": "code",
   "execution_count": 83,
   "id": "025edcfb-c8c5-4f79-84c6-e8917d8df243",
   "metadata": {},
   "outputs": [],
   "source": [
    "# Register the DataFrame as a temporary view\n",
    "merged_df.createOrReplaceTempView(\"books\")"
   ]
  },
  {
   "cell_type": "code",
   "execution_count": 84,
   "id": "475a1e8c-6e33-48cd-bbb9-ac6b3b7de8e7",
   "metadata": {},
   "outputs": [
    {
     "name": "stdout",
     "output_type": "stream",
     "text": [
      "+--------------------+----------+\n",
      "|             authors|book_count|\n",
      "+--------------------+----------+\n",
      "|     ['Jane Austen']|     32267|\n",
      "|['J. R. R. Tolkien']|     30467|\n",
      "| ['Charles Dickens']|     17763|\n",
      "|  ['John Steinbeck']|     12730|\n",
      "|     ['C. S. Lewis']|     10566|\n",
      "|   ['Lewis Carroll']|     10099|\n",
      "|['John Ronald Reu...|     10011|\n",
      "|   ['Kurt Vonnegut']|      9899|\n",
      "|    ['Emily Bronte']|      9397|\n",
      "|['F. Scott Fitzge...|      8606|\n",
      "|      ['Harper Lee']|      8302|\n",
      "|['Charlotte Brontë']|      8112|\n",
      "|   ['George Orwell']|      7937|\n",
      "|   ['Aldous Huxley']|      7498|\n",
      "|    ['Ray Bradbury']|      7429|\n",
      "| ['Agatha Christie']|      7368|\n",
      "|    ['Stephen King']|      7130|\n",
      "|      ['Mark Twain']|      6800|\n",
      "|    ['Rey Terciero']|      6489|\n",
      "|['Louisa May Alco...|      6150|\n",
      "+--------------------+----------+\n",
      "only showing top 20 rows\n",
      "\n"
     ]
    }
   ],
   "source": [
    "# Authors by Number of Books\n",
    "\n",
    "author_book_count = spark.sql(\"\"\"\n",
    "    SELECT authors, COUNT(*) AS book_count\n",
    "    FROM books\n",
    "    WHERE authors != 'unknown'\n",
    "    GROUP BY authors\n",
    "    ORDER BY book_count DESC\n",
    "\"\"\")\n",
    "\n",
    "author_book_count.show()"
   ]
  },
  {
   "cell_type": "code",
   "execution_count": 85,
   "id": "54f01b3d-56c3-4b3d-95b2-3006ae25899d",
   "metadata": {},
   "outputs": [
    {
     "data": {
      "image/png": "[encoded data removed]",
      "text/plain": [
       "<Figure size 1000x600 with 1 Axes>"
      ]
     },
     "metadata": {},
     "output_type": "display_data"
    }
   ],
   "source": [
    "# Plot Top 15 Authors by Number of Books\n",
    "\n",
    "author_book_count_df = author_book_count.toPandas()\n",
    "\n",
    "plt.figure(figsize=(10, 6))\n",
    "plt.barh(author_book_count_df['authors'][:15], author_book_count_df['book_count'][:15], color='skyblue')\n",
    "plt.xlabel('Number of Books')\n",
    "plt.ylabel('Author')\n",
    "plt.title('Top 15 Authors by Number of Books')\n",
    "plt.gca().invert_yaxis()\n",
    "plt.show()"
   ]
  },
  {
   "cell_type": "code",
   "execution_count": 86,
   "id": "158c3b51-9344-41ce-a6b7-659563434511",
   "metadata": {},
   "outputs": [
    {
     "name": "stdout",
     "output_type": "stream",
     "text": [
      "+--------------------+---------+\n",
      "|          book_title|avg_score|\n",
      "+--------------------+---------+\n",
      "|langer samstag: r...|      5.0|\n",
      "|fundamental probl...|      5.0|\n",
      "|hey, mister: afte...|      5.0|\n",
      "|queen lucia: make...|      5.0|\n",
      "|hide and shriek i...|      5.0|\n",
      "|garlic and oil: p...|      5.0|\n",
      "|pura vida!: gay a...|      5.0|\n",
      "|an encyclopedia o...|      5.0|\n",
      "|rudyard kipling's...|      5.0|\n",
      "|grave review: a j...|      5.0|\n",
      "|history of the is...|      5.0|\n",
      "|             annuals|      5.0|\n",
      "|seeds of grace: a...|      5.0|\n",
      "|hartley field: poems|      5.0|\n",
      "|a palestinian sta...|      5.0|\n",
      "|bartleby of the m...|      5.0|\n",
      "|ivor horton's beg...|      5.0|\n",
      "|  fixed point theory|      5.0|\n",
      "|american wildlife...|      5.0|\n",
      "|lapd: patrol, swa...|      5.0|\n",
      "+--------------------+---------+\n",
      "only showing top 20 rows\n",
      "\n"
     ]
    }
   ],
   "source": [
    "# Books by Average Review Score\n",
    "\n",
    "book_avg_score = spark.sql(\"\"\"\n",
    "    SELECT LOWER(Title) AS book_title, AVG(`review/score`) AS avg_score\n",
    "    FROM books\n",
    "    GROUP BY book_title\n",
    "    ORDER BY avg_score DESC\n",
    "\"\"\")\n",
    "\n",
    "book_avg_score.show()"
   ]
  },
  {
   "cell_type": "code",
   "execution_count": 91,
   "id": "0ca7e1ec-89e1-450b-a39d-17e4816e227a",
   "metadata": {},
   "outputs": [
    {
     "data": {
      "image/png": "[encoded data removed]",
      "text/plain": [
       "<Figure size 1000x600 with 1 Axes>"
      ]
     },
     "metadata": {},
     "output_type": "display_data"
    }
   ],
   "source": [
    "# Plot Top 15 Books by Average Review Score\n",
    "\n",
    "book_avg_score_df = book_avg_score.toPandas()\n",
    "\n",
    "plt.figure(figsize=(10, 6))\n",
    "plt.barh(book_avg_score_df['book_title'][:10], book_avg_score_df['avg_score'][:10], color='skyblue')\n",
    "plt.xlabel('Average Review Score')\n",
    "plt.ylabel('Book Title (Lowercase)')\n",
    "plt.title('Top 10 Books by Average Review Score (Ignoring Case)')\n",
    "plt.gca().invert_yaxis()\n",
    "plt.show()"
   ]
  },
  {
   "cell_type": "code",
   "execution_count": 88,
   "id": "8be1df7b-d312-428c-8e40-05b0935138d4",
   "metadata": {},
   "outputs": [
    {
     "name": "stdout",
     "output_type": "stream",
     "text": [
      "+--------------------+----------+\n",
      "|          categories|book_count|\n",
      "+--------------------+----------+\n",
      "|         ['Fiction']|    652908|\n",
      "|               Other|    447230|\n",
      "|['Juvenile Fiction']|    143113|\n",
      "|['Biography & Aut...|     88923|\n",
      "|        ['Religion']|     85878|\n",
      "|         ['History']|     76250|\n",
      "|['Business & Econ...|     55193|\n",
      "|       ['Computers']|     32280|\n",
      "|         ['Cooking']|     25846|\n",
      "|  ['Social Science']|     25605|\n",
      "|       ['Self-Help']|     24846|\n",
      "|['Family & Relati...|     24204|\n",
      "|['Juvenile Nonfic...|     23806|\n",
      "|['Body, Mind & Sp...|     22992|\n",
      "|['Young Adult Fic...|     21128|\n",
      "|['Health & Fitness']|     20687|\n",
      "|         ['Science']|     20135|\n",
      "|['Political Scien...|     19523|\n",
      "|['Sports & Recrea...|     18138|\n",
      "|      ['Philosophy']|     17157|\n",
      "+--------------------+----------+\n",
      "only showing top 20 rows\n",
      "\n"
     ]
    }
   ],
   "source": [
    "# Book count for each category\n",
    "\n",
    "books_per_category = spark.sql(\"\"\"\n",
    "    SELECT categories, COUNT(*) AS book_count\n",
    "    FROM books\n",
    "    GROUP BY categories\n",
    "    ORDER BY book_count DESC\n",
    "\"\"\")\n",
    "\n",
    "books_per_category.show()"
   ]
  },
  {
   "cell_type": "code",
   "execution_count": 89,
   "id": "b7c989d2-b2b5-4e46-9872-e99a8674f642",
   "metadata": {},
   "outputs": [
    {
     "data": {
      "image/png": "[encoded data removed]",
      "text/plain": [
       "<Figure size 1000x600 with 1 Axes>"
      ]
     },
     "metadata": {},
     "output_type": "display_data"
    }
   ],
   "source": [
    "# Plot Top 10 Book Categories\n",
    "\n",
    "top_categories = books_per_category.limit(10).toPandas()\n",
    "\n",
    "plt.figure(figsize=(10, 6))\n",
    "plt.bar(top_categories['categories'], top_categories['book_count'], color='skyblue')\n",
    "plt.xlabel('Book Category')\n",
    "plt.ylabel('Number of Books')\n",
    "plt.title('Top 10 Book Categories')\n",
    "plt.xticks(rotation=45, ha='right')\n",
    "plt.tight_layout()\n",
    "plt.show()"
   ]
  },
  {
   "cell_type": "markdown",
   "id": "ec86098d-a81d-46d0-8158-f5a615ed644a",
   "metadata": {},
   "source": [
    "#### Data preparataion"
   ]
  },
  {
   "cell_type": "code",
   "execution_count": 62,
   "id": "a0b8c858-5639-411a-8d9f-98103102a2d0",
   "metadata": {},
   "outputs": [
    {
     "name": "stdout",
     "output_type": "stream",
     "text": [
      "+----------+--------------------+--------------+--------------------+------------------+------------+--------------------+--------------------+---------------------+----------+\n",
      "|        Id|               Title|       User_id|         profileName|review/helpfulness|review/score|      review/summary|         review/text|review_time_formatted|user_index|\n",
      "+----------+--------------------+--------------+--------------------+------------------+------------+--------------------+--------------------+---------------------+----------+\n",
      "|1882931173|Its Only Art If I...| AVCGYZL8FQQTD|\"Jim of Oz \"\"jim-...|               7/7|         4.0|Nice collection o...|This is only for ...|  1999-10-23 06:00:00|  167342.0|\n",
      "|0826414346|Dr. Seuss: Americ...|A30TK6U7DNS82R|       Kevin Killian|             10/10|         5.0|   Really Enjoyed It|I don't care much...|  2004-09-21 06:00:00|      64.0|\n",
      "|0826414346|Dr. Seuss: Americ...|A3UH4UZ4RSVO82|        John Granger|             10/11|         5.0|Essential for eve...|\"If people become...|  2004-03-09 06:00:00|  105603.0|\n",
      "|0826414346|Dr. Seuss: Americ...|A2MVUWT453QH61|\"Roy E. Perry \"\"a...|               7/7|         4.0|Phlip Nel gives s...|Theodore Seuss Ge...|  2004-07-25 06:00:00|    4472.0|\n",
      "|0826414346|Dr. Seuss: Americ...|A22X4XUPKF66MR|\"D. H. Richards \"...|               3/3|         4.0|Good academic ove...|\"Philip Nel - Dr....|  2005-02-10 06:00:00|   31628.0|\n",
      "|0826414346|Dr. Seuss: Americ...|A2F6NONFUDB6UK|              Malvin|               2/2|         4.0|One of America's ...|\"\"\"Dr. Seuss: Ame...|  2005-09-20 06:00:00|    3581.0|\n",
      "|0826414346|Dr. Seuss: Americ...|A14OJS0VWMOSWO| Midwest Book Review|               3/4|         5.0|A memorably excel...|Theodor Seuss Gie...|  2004-11-11 06:00:00|       0.0|\n",
      "|0826414346|Dr. Seuss: Americ...|A2RSSXTDZDUSH4|           J. Squire|               0/0|         5.0|Academia At It's ...|\"When I recieved ...|  2009-01-06 05:30:00|  637127.0|\n",
      "|0826414346|Dr. Seuss: Americ...|A25MD5I2GUIW6W|\"J. P. HIGBED \"\"b...|               0/0|         5.0|And to think that...|\"Trams (or any pu...|  2008-05-04 05:30:00|  130564.0|\n",
      "|0826414346|Dr. Seuss: Americ...|A3VA4XFS5WNJO3|     Donald Burnside|               3/5|         4.0|Fascinating accou...|As far as I am aw...|  2004-02-10 06:00:00|  837130.0|\n",
      "|0829814000|Wonderful Worship...| AZ0IOBU20TBOP|  Rev. Pamela Tinnin|              8/10|         5.0|Outstanding Resou...|I just finished t...|  2001-06-02 06:00:00|  999180.0|\n",
      "|0829814000|Wonderful Worship...|A373VVEU6Z9M0N|Dr. Terry W. Dorsett|               1/1|         5.0|Small Churches CA...|\"Many small churc...|  2010-12-08 05:30:00|    6737.0|\n",
      "|0829814000|Wonderful Worship...| AGKGOH65VTRR4|\"Cynthia L. Lajoy...|               1/1|         5.0|Not Just for Past...|I just finished r...|  2009-07-23 05:30:00|  905785.0|\n",
      "|0829814000|Wonderful Worship...| A3OQWLU31BU1Y|       Maxwell Grant|               1/1|         5.0|Small church past...|\"I hadn't been a ...|  2008-09-28 05:30:00|  271320.0|\n",
      "|0595344550|Whispers of the W...|A3Q12RK71N74LB|         Book Reader|              7/11|         1.0|            not good|I bought this boo...|  2005-05-26 06:00:00|  272667.0|\n",
      "|0595344550|Whispers of the W...|A1E9M6APK30ZAU|           V. Powell|               1/2|         4.0|  Here is my opinion|\"I have to admit,...|  2005-06-24 06:00:00|  385693.0|\n",
      "|0595344550|Whispers of the W...| AUR0VA5H0C66C|\"LoveToRead \"\"Act...|               1/2|         1.0|        Buyer beware|\"This is a self-p...|  2005-06-20 06:00:00|  307557.0|\n",
      "|0595344550|Whispers of the W...|A1YLDZ3VHR6QPZ|               Clara|               2/4|         5.0| Fall on your knee's|When I first read...|  2005-05-13 06:00:00|   38095.0|\n",
      "|0595344550|Whispers of the W...| ACO23CG8K8T77|               Tonya|               5/9|         5.0|      Bravo Veronica|I read the review...|  2005-05-26 06:00:00|  885889.0|\n",
      "|0595344550|Whispers of the W...|A1VK81CRRC7MLM|\"missyLou \"\"apple\"\"\"|               1/3|         5.0|           Wonderful|\"I really enjoyed...|  2005-10-23 06:00:00|  473495.0|\n",
      "+----------+--------------------+--------------+--------------------+------------------+------------+--------------------+--------------------+---------------------+----------+\n",
      "only showing top 20 rows\n",
      "\n"
     ]
    }
   ],
   "source": [
    "from pyspark.ml.feature import StringIndexer\n",
    "\n",
    "user_indexer = StringIndexer(inputCol=\"User_id\", outputCol=\"user_index\")\n",
    "indexerModel = user_indexer.fit(book_rating_df)\n",
    "\n",
    "# Transform the DataFrame using the fitted StringIndexer model\n",
    "indexed_df = indexerModel.transform(book_rating_df)\n",
    "indexed_df.show(truncate=20)"
   ]
  },
  {
   "cell_type": "code",
   "execution_count": 63,
   "id": "3d097860-79c5-4211-861a-8a5959d9e395",
   "metadata": {},
   "outputs": [
    {
     "name": "stdout",
     "output_type": "stream",
     "text": [
      "+----------+--------------------+--------------+--------------------+------------------+------------+--------------------+--------------------+---------------------+----------+-----------+\n",
      "|        Id|               Title|       User_id|         profileName|review/helpfulness|review/score|      review/summary|         review/text|review_time_formatted|user_index|title_index|\n",
      "+----------+--------------------+--------------+--------------------+------------------+------------+--------------------+--------------------+---------------------+----------+-----------+\n",
      "|1882931173|Its Only Art If I...| AVCGYZL8FQQTD|\"Jim of Oz \"\"jim-...|               7/7|         4.0|Nice collection o...|This is only for ...|  1999-10-23 06:00:00|  167342.0|   164573.0|\n",
      "|0826414346|Dr. Seuss: Americ...|A30TK6U7DNS82R|       Kevin Killian|             10/10|         5.0|   Really Enjoyed It|I don't care much...|  2004-09-21 06:00:00|      64.0|    37770.0|\n",
      "|0826414346|Dr. Seuss: Americ...|A3UH4UZ4RSVO82|        John Granger|             10/11|         5.0|Essential for eve...|\"If people become...|  2004-03-09 06:00:00|  105603.0|    37770.0|\n",
      "|0826414346|Dr. Seuss: Americ...|A2MVUWT453QH61|\"Roy E. Perry \"\"a...|               7/7|         4.0|Phlip Nel gives s...|Theodore Seuss Ge...|  2004-07-25 06:00:00|    4472.0|    37770.0|\n",
      "|0826414346|Dr. Seuss: Americ...|A22X4XUPKF66MR|\"D. H. Richards \"...|               3/3|         4.0|Good academic ove...|\"Philip Nel - Dr....|  2005-02-10 06:00:00|   31628.0|    37770.0|\n",
      "|0826414346|Dr. Seuss: Americ...|A2F6NONFUDB6UK|              Malvin|               2/2|         4.0|One of America's ...|\"\"\"Dr. Seuss: Ame...|  2005-09-20 06:00:00|    3581.0|    37770.0|\n",
      "|0826414346|Dr. Seuss: Americ...|A14OJS0VWMOSWO| Midwest Book Review|               3/4|         5.0|A memorably excel...|Theodor Seuss Gie...|  2004-11-11 06:00:00|       0.0|    37770.0|\n",
      "|0826414346|Dr. Seuss: Americ...|A2RSSXTDZDUSH4|           J. Squire|               0/0|         5.0|Academia At It's ...|\"When I recieved ...|  2009-01-06 05:30:00|  637127.0|    37770.0|\n",
      "|0826414346|Dr. Seuss: Americ...|A25MD5I2GUIW6W|\"J. P. HIGBED \"\"b...|               0/0|         5.0|And to think that...|\"Trams (or any pu...|  2008-05-04 05:30:00|  130564.0|    37770.0|\n",
      "|0826414346|Dr. Seuss: Americ...|A3VA4XFS5WNJO3|     Donald Burnside|               3/5|         4.0|Fascinating accou...|As far as I am aw...|  2004-02-10 06:00:00|  837130.0|    37770.0|\n",
      "|0829814000|Wonderful Worship...| AZ0IOBU20TBOP|  Rev. Pamela Tinnin|              8/10|         5.0|Outstanding Resou...|I just finished t...|  2001-06-02 06:00:00|  999180.0|    82155.0|\n",
      "|0829814000|Wonderful Worship...|A373VVEU6Z9M0N|Dr. Terry W. Dorsett|               1/1|         5.0|Small Churches CA...|\"Many small churc...|  2010-12-08 05:30:00|    6737.0|    82155.0|\n",
      "|0829814000|Wonderful Worship...| AGKGOH65VTRR4|\"Cynthia L. Lajoy...|               1/1|         5.0|Not Just for Past...|I just finished r...|  2009-07-23 05:30:00|  905785.0|    82155.0|\n",
      "|0829814000|Wonderful Worship...| A3OQWLU31BU1Y|       Maxwell Grant|               1/1|         5.0|Small church past...|\"I hadn't been a ...|  2008-09-28 05:30:00|  271320.0|    82155.0|\n",
      "|0595344550|Whispers of the W...|A3Q12RK71N74LB|         Book Reader|              7/11|         1.0|            not good|I bought this boo...|  2005-05-26 06:00:00|  272667.0|    11208.0|\n",
      "|0595344550|Whispers of the W...|A1E9M6APK30ZAU|           V. Powell|               1/2|         4.0|  Here is my opinion|\"I have to admit,...|  2005-06-24 06:00:00|  385693.0|    11208.0|\n",
      "|0595344550|Whispers of the W...| AUR0VA5H0C66C|\"LoveToRead \"\"Act...|               1/2|         1.0|        Buyer beware|\"This is a self-p...|  2005-06-20 06:00:00|  307557.0|    11208.0|\n",
      "|0595344550|Whispers of the W...|A1YLDZ3VHR6QPZ|               Clara|               2/4|         5.0| Fall on your knee's|When I first read...|  2005-05-13 06:00:00|   38095.0|    11208.0|\n",
      "|0595344550|Whispers of the W...| ACO23CG8K8T77|               Tonya|               5/9|         5.0|      Bravo Veronica|I read the review...|  2005-05-26 06:00:00|  885889.0|    11208.0|\n",
      "|0595344550|Whispers of the W...|A1VK81CRRC7MLM|\"missyLou \"\"apple\"\"\"|               1/3|         5.0|           Wonderful|\"I really enjoyed...|  2005-10-23 06:00:00|  473495.0|    11208.0|\n",
      "+----------+--------------------+--------------+--------------------+------------------+------------+--------------------+--------------------+---------------------+----------+-----------+\n",
      "only showing top 20 rows\n",
      "\n"
     ]
    }
   ],
   "source": [
    "title_indexer = StringIndexer(inputCol=\"Title\", outputCol=\"title_index\")\n",
    "indexerModel = title_indexer.fit(indexed_df)\n",
    "\n",
    "# Transform the DataFrame using the fitted StringIndexer model\n",
    "indexed_df = indexerModel.transform(indexed_df)\n",
    "indexed_df.show(truncate=20)"
   ]
  },
  {
   "cell_type": "code",
   "execution_count": 64,
   "id": "7e96cb3d-aa64-42fb-b2d3-6eb0a7b98a26",
   "metadata": {},
   "outputs": [
    {
     "name": "stdout",
     "output_type": "stream",
     "text": [
      "Number of unique user IDs: 1004218\n"
     ]
    }
   ],
   "source": [
    "# Count the distinct user IDs\n",
    "unique_user_ids = indexed_df.select('user_index').distinct().count()\n",
    "\n",
    "# Print the count of unique user IDs\n",
    "print(\"Number of unique user IDs:\", unique_user_ids)"
   ]
  },
  {
   "cell_type": "code",
   "execution_count": 65,
   "id": "4d69ea29-0cea-4fe9-b990-1357c1bf3b15",
   "metadata": {},
   "outputs": [],
   "source": [
    "# Selecting the required columns\n",
    "new_df = indexed_df.select(\"user_index\", \"title_index\", \"review/score\").limit(1000)"
   ]
  },
  {
   "cell_type": "code",
   "execution_count": 66,
   "id": "d6402fd5-257a-4a74-95e9-bca45a2175a6",
   "metadata": {},
   "outputs": [],
   "source": [
    "from pyspark.sql.functions import col\n",
    "\n",
    "# List of columns to convert to integer\n",
    "columns_to_convert = ['user_index', 'title_index', 'review/score']\n",
    "\n",
    "# Iterate over each column and cast its data type to integer\n",
    "for col_name in columns_to_convert:\n",
    "    new_df = new_df.withColumn(col_name, col(col_name).cast(\"integer\"))"
   ]
  },
  {
   "cell_type": "code",
   "execution_count": 67,
   "id": "144917b7-a6a1-436e-a974-80db6654e49a",
   "metadata": {},
   "outputs": [
    {
     "name": "stdout",
     "output_type": "stream",
     "text": [
      "Number of unique user IDs: 965\n"
     ]
    }
   ],
   "source": [
    "# Count the distinct user IDs\n",
    "unique_user_ids_count = new_df.select('user_index').distinct().count()\n",
    "\n",
    "# Print the count of unique user IDs\n",
    "print(\"Number of unique user IDs:\", unique_user_ids_count)"
   ]
  },
  {
   "cell_type": "code",
   "execution_count": 68,
   "id": "f4e4257f-06cc-46bd-a737-e60e24da20bc",
   "metadata": {},
   "outputs": [
    {
     "name": "stdout",
     "output_type": "stream",
     "text": [
      "Number of unique user IDs: 965\n"
     ]
    }
   ],
   "source": [
    "# Count the distinct user IDs\n",
    "unique_user_idst = new_df.select('user_index').distinct().count()\n",
    "\n",
    "# Print the count of unique user IDs\n",
    "print(\"Number of unique user IDs:\", unique_user_ids_count)"
   ]
  },
  {
   "cell_type": "code",
   "execution_count": 69,
   "id": "2c8c32a8-fd59-4089-aba9-3316e92e0a40",
   "metadata": {},
   "outputs": [
    {
     "name": "stdout",
     "output_type": "stream",
     "text": [
      "+----------+-----------+------------+\n",
      "|user_index|title_index|review/score|\n",
      "+----------+-----------+------------+\n",
      "|    167342|     164573|           4|\n",
      "|        64|      37770|           5|\n",
      "|    105603|      37770|           5|\n",
      "|      4472|      37770|           4|\n",
      "|     31628|      37770|           4|\n",
      "|      3581|      37770|           4|\n",
      "|         0|      37770|           5|\n",
      "|    637127|      37770|           5|\n",
      "|    130564|      37770|           5|\n",
      "|    837130|      37770|           4|\n",
      "+----------+-----------+------------+\n",
      "only showing top 10 rows\n",
      "\n"
     ]
    }
   ],
   "source": [
    "new_df.show(10)"
   ]
  },
  {
   "cell_type": "code",
   "execution_count": 70,
   "id": "c3c35054-3a91-449a-9ec6-fe12e6d911b4",
   "metadata": {},
   "outputs": [],
   "source": [
    "train_df, test_df = new_df.randomSplit([0.8, 0.2])"
   ]
  },
  {
   "cell_type": "code",
   "execution_count": 71,
   "id": "331ff82c-de09-4789-9112-aeed8bf2bf09",
   "metadata": {},
   "outputs": [],
   "source": [
    "from pyspark.ml.recommendation import ALS\n",
    "from pyspark.ml.evaluation import RegressionEvaluator\n",
    "from pyspark.sql.functions import col"
   ]
  },
  {
   "cell_type": "markdown",
   "id": "81a75976-6e89-4640-9bf6-4102007403b9",
   "metadata": {},
   "source": [
    "#### Hyperparameter Tuning"
   ]
  },
  {
   "cell_type": "code",
   "execution_count": 72,
   "id": "959e0fb6-e0ae-4887-8428-b9b52019108d",
   "metadata": {},
   "outputs": [
    {
     "name": "stdout",
     "output_type": "stream",
     "text": [
      "Parameters: Iterations=5, Regularization=0.1, Rank=2\n",
      "RMSE: 3.53437137679772\n",
      "========================================\n",
      "Parameters: Iterations=10, Regularization=0.1, Rank=2\n",
      "RMSE: 3.2509155928880182\n",
      "========================================\n",
      "Parameters: Iterations=20, Regularization=0.1, Rank=2\n",
      "RMSE: 3.0935479981043543\n",
      "========================================\n",
      "Best Iteration Parameter: 20\n",
      "Best RMSE: 3.0935479981043543\n"
     ]
    }
   ],
   "source": [
    "# Define arrays for hyperparameters\n",
    "iterations_array = [5, 10, 20]\n",
    "regularization_parameter = 0.1\n",
    "rank = 2\n",
    "\n",
    "# Initialize variables to store best parameters and corresponding RMSE\n",
    "best_iteration = float(\"inf\")\n",
    "best_rmse = float(\"inf\")\n",
    "best_regularization_parameter= float(\"inf\")\n",
    "best_rank=float(\"inf\")\n",
    "\n",
    "# Loop through each combination of hyperparameters\n",
    "for iterations in iterations_array:\n",
    "            # Initialize ALS model with current hyperparameters\n",
    "            als = ALS(maxIter=iterations, \n",
    "                      regParam=regularization_parameter,\n",
    "                      rank=rank,\n",
    "                      userCol=\"user_index\", \n",
    "                      itemCol=\"title_index\", \n",
    "                      ratingCol=\"review/score\",\n",
    "                      coldStartStrategy=\"drop\")\n",
    "\n",
    "            # Fit the model to the training data\n",
    "            model = als.fit(train_df)\n",
    "\n",
    "            # Make predictions on the test data\n",
    "            predictions = model.transform(test_df)\n",
    "\n",
    "            # Filter out null predictions\n",
    "            new_predictions = predictions.filter(col('prediction').isNotNull())\n",
    "\n",
    "            # Evaluate the model using RMSE\n",
    "            evaluator = RegressionEvaluator(metricName=\"rmse\", labelCol=\"review/score\", predictionCol=\"prediction\")\n",
    "            rmse = evaluator.evaluate(new_predictions)\n",
    "\n",
    "            # Print RMSE for current combination of hyperparameters\n",
    "            print(\"Parameters: Iterations={}, Regularization={}, Rank={}\".format(iterations, regularization_parameter, rank))\n",
    "            print(\"RMSE:\", rmse)\n",
    "            print(\"=\" * 40)\n",
    "\n",
    "            # Update best parameters if current RMSE is lower\n",
    "            if rmse < best_rmse:\n",
    "                best_rmse = rmse\n",
    "                best_iteration = iterations\n",
    "                \n",
    "\n",
    "print(\"Best Iteration Parameter:\", best_iteration)\n",
    "print(\"Best RMSE:\", best_rmse)"
   ]
  },
  {
   "cell_type": "code",
   "execution_count": 73,
   "id": "51c3997d-cce3-4193-b62d-5f1d0bcedf9c",
   "metadata": {},
   "outputs": [
    {
     "name": "stdout",
     "output_type": "stream",
     "text": [
      "Parameters: Iterations=20, Regularization=0.2, Rank=4\n",
      "RMSE: 2.9136386699528094\n",
      "========================================\n",
      "Parameters: Iterations=20, Regularization=0.2, Rank=6\n",
      "RMSE: 3.066840514449097\n",
      "========================================\n",
      "Parameters: Iterations=20, Regularization=0.3, Rank=4\n",
      "RMSE: 2.9545715204818994\n",
      "========================================\n",
      "Parameters: Iterations=20, Regularization=0.3, Rank=6\n",
      "RMSE: 3.0255949901313586\n",
      "========================================\n",
      "Best Regularization Parameter 0.2\n",
      "Best Rank: 4\n",
      "Best Iteration: 20\n",
      "Best RMSE: 2.9136386699528094\n"
     ]
    }
   ],
   "source": [
    "# Define arrays for hyperparameters\n",
    "regularization_array = [0.2, 0.3]\n",
    "rank_array = [4, 6]\n",
    "\n",
    "# Loop through each combination of hyperparameters\n",
    "for regularization_parameter in regularization_array:\n",
    "    for rank in rank_array:\n",
    "            # Initialize ALS model with current hyperparameters\n",
    "            als = ALS(maxIter=best_iteration, \n",
    "                      regParam=regularization_parameter,\n",
    "                      rank=rank,\n",
    "                      userCol=\"user_index\", \n",
    "                      itemCol=\"title_index\", \n",
    "                      ratingCol=\"review/score\",\n",
    "                      coldStartStrategy=\"drop\")\n",
    "\n",
    "            # Fit the model to the training data\n",
    "            model = als.fit(train_df)\n",
    "\n",
    "            # Make predictions on the test data\n",
    "            predictions = model.transform(test_df)\n",
    "\n",
    "            # Filter out null predictions\n",
    "            new_predictions = predictions.filter(col('prediction').isNotNull())\n",
    "\n",
    "            # Evaluate the model using RMSE\n",
    "            evaluator = RegressionEvaluator(metricName=\"rmse\", labelCol=\"review/score\", predictionCol=\"prediction\")\n",
    "            rmse = evaluator.evaluate(new_predictions)\n",
    "\n",
    "            # Print RMSE for current combination of hyperparameters\n",
    "            print(\"Parameters: Iterations={}, Regularization={}, Rank={}\".format(iterations, regularization_parameter, rank))\n",
    "            print(\"RMSE:\", rmse)\n",
    "            print(\"=\" * 40)\n",
    "\n",
    "            # Update best parameters if current RMSE is lower\n",
    "            if rmse < best_rmse:\n",
    "                best_rmse = rmse\n",
    "                best_rank = rank\n",
    "                best_regularization_parameter = regularization_parameter\n",
    "\n",
    "print(\"Best Regularization Parameter\", best_regularization_parameter)\n",
    "print(\"Best Rank:\", best_rank)\n",
    "print(\"Best Iteration:\", best_iteration)\n",
    "print(\"Best RMSE:\", best_rmse)"
   ]
  },
  {
   "cell_type": "code",
   "execution_count": 74,
   "id": "6074dc8e-6880-40e4-b703-cd653ee3f61a",
   "metadata": {},
   "outputs": [],
   "source": [
    "# Initialize ALS model\n",
    "als = ALS(maxIter=best_iteration, \n",
    "          regParam=best_regularization_parameter,\n",
    "          rank=best_rank,\n",
    "          userCol=\"user_index\", \n",
    "          itemCol=\"title_index\", \n",
    "          ratingCol=\"review/score\",\n",
    "          coldStartStrategy=\"drop\")\n",
    "\n",
    "# Fit the model to the training data\n",
    "model = als.fit(train_df)"
   ]
  },
  {
   "cell_type": "code",
   "execution_count": 75,
   "id": "39206b53-583b-486e-a8d8-79dd0413d98c",
   "metadata": {},
   "outputs": [
    {
     "name": "stdout",
     "output_type": "stream",
     "text": [
      "+----------+-----------+------------+----------+\n",
      "|user_index|title_index|review/score|prediction|\n",
      "+----------+-----------+------------+----------+\n",
      "|    196241|       3686|           4|  3.812551|\n",
      "|     17466|       3461|           4|  3.494738|\n",
      "|    311528|       3461|           5|  3.494738|\n",
      "|         1|       3686|           5|-0.6416191|\n",
      "|     20256|       3461|           5|  3.494738|\n",
      "|      1330|       3461|           4| 2.7957904|\n",
      "|      5183|       3423|           3|  2.086195|\n",
      "|         8|       3461|           4|  3.494738|\n",
      "|         7|      70821|           5| -2.509263|\n",
      "|    224395|       3461|           5|  3.494738|\n",
      "+----------+-----------+------------+----------+\n",
      "only showing top 10 rows\n",
      "\n"
     ]
    }
   ],
   "source": [
    "predictions = model.transform(test_df)\n",
    "predictions.show(10)"
   ]
  },
  {
   "cell_type": "code",
   "execution_count": 76,
   "id": "3d4377a3-498f-4243-a57f-adffd9a423eb",
   "metadata": {},
   "outputs": [
    {
     "name": "stdout",
     "output_type": "stream",
     "text": [
      "RMSE: 2.9136386699528094\n"
     ]
    }
   ],
   "source": [
    "new_predictions = predictions.filter(col('prediction').isNotNull())\n",
    "\n",
    "evaluator = RegressionEvaluator(metricName=\"rmse\", labelCol=\"review/score\", predictionCol=\"prediction\")\n",
    "rmse = evaluator.evaluate(new_predictions)\n",
    "print(\"RMSE:\", rmse)"
   ]
  },
  {
   "cell_type": "markdown",
   "id": "30a4780b-fd45-4656-83cd-bcb124d80ee6",
   "metadata": {},
   "source": [
    "#### Recommendation Representation"
   ]
  },
  {
   "cell_type": "code",
   "execution_count": 77,
   "id": "a08b937a-0178-4f2f-b90f-42f917aa475f",
   "metadata": {},
   "outputs": [
    {
     "name": "stdout",
     "output_type": "stream",
     "text": [
      "+----------+--------------------+----------+\n",
      "|user_index|               Title|prediction|\n",
      "+----------+--------------------+----------+\n",
      "|         0|Dr. Seuss: Americ...| 1.4791586|\n",
      "|         0|Dealing With Disa...| 1.4791586|\n",
      "|         0|Communicating wit...| 1.4791586|\n",
      "|         0|Alternative Chica...| 1.4791586|\n",
      "|         0|Chocolate: The Sw...| 1.4791586|\n",
      "+----------+--------------------+----------+\n",
      "only showing top 5 rows\n",
      "\n"
     ]
    }
   ],
   "source": [
    "predictions.join(indexed_df, \"user_index\").select(\"user_index\", \"Title\", \"prediction\").show(5)"
   ]
  },
  {
   "cell_type": "code",
   "execution_count": 78,
   "id": "29903342-291f-4d0b-a724-e4584693c620",
   "metadata": {},
   "outputs": [],
   "source": [
    "# Generate top 5 books recommendations for each user\n",
    "userRecommendations = model.recommendForAllUsers(5)\n",
    "\n",
    "# Generate top 5 user recommendations for each book\n",
    "bookRecommendations = model.recommendForAllItems(5)"
   ]
  },
  {
   "cell_type": "code",
   "execution_count": 79,
   "id": "036852eb-a3a7-49e5-ab31-9d7345db120d",
   "metadata": {},
   "outputs": [
    {
     "name": "stdout",
     "output_type": "stream",
     "text": [
      "+----------+-------------------------------------+\n",
      "|user_index|title_index                          |\n",
      "+----------+-------------------------------------+\n",
      "|0         |[29080, 37770, 104213, 33849, 114047]|\n",
      "|1         |[82155, 3423, 86495, 55059, 147669]  |\n",
      "|2         |[186152, 34356, 29640, 90506, 181333]|\n",
      "|3         |[186152, 82730, 29640, 98844, 34356] |\n",
      "|4         |[45093, 22209, 127268, 34397, 99434] |\n",
      "|7         |[121626, 33539, 11208, 181916, 57903]|\n",
      "|8         |[82155, 3423, 86495, 55059, 147669]  |\n",
      "|15        |[121626, 33539, 11208, 181916, 57903]|\n",
      "|21        |[36062, 50699, 32037, 158742, 33849] |\n",
      "|22        |[31903, 33539, 147669, 128556, 59755]|\n",
      "+----------+-------------------------------------+\n",
      "only showing top 10 rows\n",
      "\n"
     ]
    }
   ],
   "source": [
    "userRecommendations.select(\"user_index\",\"recommendations.title_index\").show(10, False)"
   ]
  },
  {
   "cell_type": "code",
   "execution_count": 80,
   "id": "927ada6f-8405-400e-ae6c-e45523f4809c",
   "metadata": {},
   "outputs": [
    {
     "name": "stdout",
     "output_type": "stream",
     "text": [
      "+-----------+----------------------------------------+\n",
      "|title_index|user_index                              |\n",
      "+-----------+----------------------------------------+\n",
      "|82730      |[84341, 877130, 661421, 120498, 110176] |\n",
      "|191090     |[376636, 417873, 814745, 61876, 676697] |\n",
      "|37770      |[0, 130564, 105603, 969313, 757532]     |\n",
      "|9350       |[983449, 982706, 957562, 945198, 926375]|\n",
      "|29080      |[0, 130564, 105603, 621492, 969313]     |\n",
      "|9170       |[753669, 684137, 683505, 591496, 574039]|\n",
      "|113380     |[715020, 429, 4075, 93, 101]            |\n",
      "|172980     |[676697, 977529, 945395, 944613, 833938]|\n",
      "|29640      |[877130, 661421, 120498, 110176, 37717] |\n",
      "|156550     |[973334, 91010, 62724, 806224, 598933]  |\n",
      "+-----------+----------------------------------------+\n",
      "only showing top 10 rows\n",
      "\n"
     ]
    }
   ],
   "source": [
    "bookRecommendations.select(\"title_index\",\"recommendations.user_index\").show(10, False)"
   ]
  },
  {
   "cell_type": "code",
   "execution_count": 92,
   "id": "ca675300-667c-47c0-a935-2df75a495539",
   "metadata": {},
   "outputs": [],
   "source": [
    "titles_df = indexed_df.select(\"title_index\", \"Title\").distinct()"
   ]
  },
  {
   "cell_type": "code",
   "execution_count": 93,
   "id": "85352f07-9d78-4e0d-b0a2-c43a5cc5496c",
   "metadata": {},
   "outputs": [],
   "source": [
    "titles_df = titles_df.join(book_data_df, \"Title\")"
   ]
  },
  {
   "cell_type": "code",
   "execution_count": 94,
   "id": "eb490a31-35d7-4ae7-90b7-05eec61031f2",
   "metadata": {},
   "outputs": [
    {
     "name": "stdout",
     "output_type": "stream",
     "text": [
      "+--------------------+-----------+--------------------+--------------------+--------------------+-------------+--------------------+\n",
      "|               Title|title_index|         description|             authors|           publisher|publishedDate|          categories|\n",
      "+--------------------+-----------+--------------------+--------------------+--------------------+-------------+--------------------+\n",
      "|         $1,265 Gold|   136626.0|Profitable trade ...|['Howard Lindzon'...|   John Wiley & Sons|   2011-06-09|['Business & Econ...|\n",
      "|$5 Dollar Menus f...|   136628.0|                    |             unknown|                    |         NULL|               Other|\n",
      "|&#161;Buen viaje!...|   102333.0|                    |             unknown|                    |         NULL|               Other|\n",
      "|'AN ESSAY CONCERN...|    31123.0|                    |      ['John Locke']|                    |   1849-01-01|['Knowledge, Theo...|\n",
      "|'Down to Earth' S...|   102336.0|Like The Long Rea...|  ['William N Hess']|Bloomsbury Publis...|   2012-12-20|         ['History']|\n",
      "+--------------------+-----------+--------------------+--------------------+--------------------+-------------+--------------------+\n",
      "only showing top 5 rows\n",
      "\n"
     ]
    }
   ],
   "source": [
    "titles_df.show(5,truncate=True)"
   ]
  },
  {
   "cell_type": "code",
   "execution_count": 95,
   "id": "c5ffe2f9-a69a-4b7b-8db7-4f4e9ae743d1",
   "metadata": {},
   "outputs": [
    {
     "name": "stdin",
     "output_type": "stream",
     "text": [
      "Enter user ID:  376636\n"
     ]
    },
    {
     "data": {
      "text/plain": [
       "DataFrame[user_index: int, recommendations: array<struct<title_index:int,rating:float>>]"
      ]
     },
     "execution_count": 95,
     "metadata": {},
     "output_type": "execute_result"
    }
   ],
   "source": [
    "# Accept user input for user ID\n",
    "user_id = input(\"Enter user ID: \")\n",
    "\n",
    "# Generate recommendations for the specified user\n",
    "user_recommendations = model.recommendForUserSubset(spark.createDataFrame([(int(user_id),)]).toDF(\"user_index\"), 10)\n",
    "user_recommendations"
   ]
  },
  {
   "cell_type": "code",
   "execution_count": 96,
   "id": "769cdd8f-4d2c-42cd-a82d-96f8542d361f",
   "metadata": {},
   "outputs": [
    {
     "name": "stdout",
     "output_type": "stream",
     "text": [
      "+----------+-----------+\n",
      "|user_index|title_index|\n",
      "+----------+-----------+\n",
      "|376636    |191090     |\n",
      "|376636    |101085     |\n",
      "|376636    |70821      |\n",
      "|376636    |87395      |\n",
      "|376636    |3686       |\n",
      "+----------+-----------+\n",
      "\n"
     ]
    }
   ],
   "source": [
    "from pyspark.sql.functions import explode\n",
    "\n",
    "# Explode the title_index array to individual rows\n",
    "user_recommendations_exploded = userRecommendations \\\n",
    "    .filter(col(\"user_index\") == user_id) \\\n",
    "    .select(\"user_index\", explode(\"recommendations.title_index\").alias(\"title_index\"))\n",
    "\n",
    "# Show the exploded DataFrame\n",
    "user_recommendations_exploded.show(10, False)"
   ]
  },
  {
   "cell_type": "code",
   "execution_count": 97,
   "id": "4ca96ca1-05ab-4c3b-90fb-4c3a353e8056",
   "metadata": {},
   "outputs": [],
   "source": [
    "# Join with book titles to get book names\n",
    "user_recommendations_with_titles = user_recommendations_exploded .join(titles_df, 'title_index')"
   ]
  },
  {
   "cell_type": "code",
   "execution_count": 98,
   "id": "26728d93-3930-45bb-803a-74900b6f8a5b",
   "metadata": {},
   "outputs": [
    {
     "name": "stdout",
     "output_type": "stream",
     "text": [
      "Top 5 recommended books for user 376636: \n",
      "+-----------+--------------------+--------------------+--------------------+--------------------+\n",
      "|title_index|               Title|             authors|          categories|         description|\n",
      "+-----------+--------------------+--------------------+--------------------+--------------------+\n",
      "|      87395|Engendering Cultu...|  ['Barbara Melosh']|  ['Arts, American']|                    |\n",
      "|       3686|The Scarletti Cur...|['Christine Feehan']|               Other|                    |\n",
      "|     191090|The Ground and Gr...|['Thomas F. Torra...|        ['Religion']|The futures seems...|\n",
      "|     101085|Vector Quantizati...|['Allen Gersho', ...|['Technology & En...|Herb Caen, a popu...|\n",
      "|      70821|Close to Home Rev...|  ['John McPherson']|           ['Humor']|                    |\n",
      "+-----------+--------------------+--------------------+--------------------+--------------------+\n",
      "\n"
     ]
    }
   ],
   "source": [
    "# Print the top 5 recommended books for the user\n",
    "print(\"Top 5 recommended books for user {}: \".format(user_id))\n",
    "user_recommendations_with_titles.select(\"title_index\", \"Title\",\"authors\",\"categories\",\"description\").show(5,truncate=True)"
   ]
  }
 ],
 "metadata": {
  "kernelspec": {
   "display_name": "Python 3 (ipykernel)",
   "language": "python",
   "name": "python3"
  },
  "language_info": {
   "codemirror_mode": {
    "name": "ipython",
    "version": 3
   },
   "file_extension": ".py",
   "mimetype": "text/x-python",
   "name": "python",
   "nbconvert_exporter": "python",
   "pygments_lexer": "ipython3",
   "version": "3.11.7"
  }
 },
 "nbformat": 4,
 "nbformat_minor": 5
}
